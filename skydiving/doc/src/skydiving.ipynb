{
 "metadata": {
  "name": "skydiving"
 },
 "nbformat": 3,
 "nbformat_minor": 0,
 "worksheets": [
  {
   "cells": [
    {
     "cell_type": "markdown",
     "metadata": {},
     "source": [
      "<div align=center>\n",
      "#Project 1: Simulate parachuting\n",
      "\n",
      "_Aug 26, 2013_\n",
      "\n",
      "*Summary.* The aim of this project is to develop a general solver for the vertical motion of a body with quadratic air drag, verify the solver, apply the solver to a skydiver in free fall, and finally apply the solver to a complete parachute jump."
     ]
    },
    {
     "cell_type": "markdown",
     "metadata": {},
     "source": [
      "---\n",
      "## Mathematical problem\n",
      "\n",
      "Many mathematical models, including vertical motion of a body with quadratic air drag, end up with ODEs of the type \n",
      "\n",
      "<center>\n",
      "$u\u2032=\u2212au+b,$\n",
      "</center> \n",
      "    \n",
      "where $a$ and $b$ may be time-dependent. The applications are taken from biology, finance, and physics, and cover population growth or decay, compound interest and inflation, radioactive decay, cooling of objects, compaction of geological media, pressure variations in the atmosphere, and of course air resistance on falling or rising bodies.\n",
      "\n",
      "\n",
      "### Vertical motion with quadratic air drag\n",
      "A body moving vertically is subject to three different types of forces: the gravity force, the drag force, and the buoyancy force. All the mentioned forces act in the vertical direction. Newton's second law of motion applied to the body says that the sum ofthese forces must equal the mass of the body times its acceleration $a$ in the vertical direction. Taking downward as positive direction, Newton's second law gives us\n",
      "\n",
      "<center> $ma = F_g + F_b + F_d,$</center> \n",
      "\n",
      "The gravity froce is $F_g = mg$, where $m$ is the mass of the body, $g$ is the acceleration of gravity. The uplift or buoyancy force (\"Archimedes force\") is $F_b = \\varrho g V$, where $\\varrho$ is the density of the fluid, in our case air, and $V$ is the volume of the body. The drag force is quadratic in the velocity:\n",
      "\n",
      "<center> $F_d=\u2212\\frac{1}{2}C_D\\varrho A|v|v,$</center> \n",
      "\n",
      "where $C_D$ is a dimensionless drag coefficient depending on the body's shape, and A is the cross-sectional area as produced by a cut plane, perpendicular to the motion, through the thickest part of the body. \n",
      "\n",
      "By using $a =dv/dt$ and $m =\\varrho_bV$, with $\\varrho_b$ as the density of the body, the equation of motion can be expressed as:\n",
      "\n",
      "<center> $ v'(t) = -{1\\over2}C_D{\\varrho A\\over\\varrho_b V}|v|v + g\\left({\\varrho\\over\\varrho_b} - 1\\right)\n",
      "= -a |v|v+b$</center> \n",
      "\n",
      "where $a = {1\\over2}C_D{\\varrho A\\over\\varrho_b V}$ and $b = g\\left(\\frac{\\varrho}{\\varrho_b} -1\\right)$.\n",
      "\n"
     ]
    },
    {
     "cell_type": "markdown",
     "metadata": {},
     "source": [
      "---\n",
      "## Numerical solution method\n",
      "\n",
      "We introduce a mesh in time with points $0= t_0< t_1 \\cdots < t_{N_t}=T$.\n",
      "For simplicity, we assume constant spacing $\\Delta t$ between the\n",
      "mesh points: $\\Delta t = t_{n}-t_{n-1}$, $n=1,\\ldots,N_t$. Let\n",
      "$u^n$ be the numerical approximation to the exact solution at $t_n$.\n",
      "\n",
      "\n",
      "The Crank-Nicolson method is used to solve the differential equation numerically. This method gives a nonlinear equation in $v$ when applied to our system, but we can use a geometric average of $|v|v$ in time to linearize the equation of motion with quadratic drag:\n",
      "\n",
      "<center> \n",
      "$ u^{n+1} = \\frac{u^n + \\Delta t b^{n+\\frac{1}{2}}}{1 + \\Delta t a^{n+\\frac{1}{2}}|u^{n}|}$\n",
      "</center>\n",
      "\n",
      "\n",
      "for $n=0,1,\\ldots,N_t-1$."
     ]
    },
    {
     "cell_type": "markdown",
     "metadata": {},
     "source": [
      "---\n",
      "## Implementation"
     ]
    }
   ],
   "metadata": {}
  }
 ]
}