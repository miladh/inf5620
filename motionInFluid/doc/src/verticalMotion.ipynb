{
 "metadata": {
  "name": "verticalMotion"
 },
 "nbformat": 3,
 "nbformat_minor": 0,
 "worksheets": [
  {
   "cells": [
    {
     "cell_type": "markdown",
     "metadata": {},
     "source": [
      "<div align=center>\n",
      "#Vertical motion of a body in a viscous fluid\n",
      "\n",
      "_Aug 26, 2013_\n",
      "\n",
      "*Summary.* The aim of this project is to develop a general solver for the vertical motion of a body with either Stokes\u2019 drag model or quadratic drag model, verify the solver and apply the solver to motion of a body in a viscous fluid."
     ]
    },
    {
     "cell_type": "markdown",
     "metadata": {},
     "source": [
      "---\n",
      "## Mathematical problem\n",
      "\n",
      "Many mathematical models, including vertical motion in a fluid, end up with ODEs of the type \n",
      "\n",
      "<center>\n",
      "$u\u2032=\u2212au+b.$\n",
      "</center> \n",
      "    \n",
      "The applications are taken from biology, finance, and physics, and cover population growth or decay, compound interest and inflation, radioactive decay, cooling of objects, compaction of geological media, pressure variations in the atmosphere, and of course air resistance on falling or rising bodies.\n",
      "\n",
      "\n",
      "### Vertical motion in a fluid\n",
      "A body moving vertically through a fluid (liquid or gas) is subject to three different types of forces: the gravity force, the drag force, and the buoyancy force. All the mentioned forces act in the vertical direction. Newton's second law of motion applied to the body says that the sum ofthese forces must equal the mass of the body times its acceleration $a$ in the vertical direction. Taking upward as positive direction, Newton's second law gives us\n",
      "\n",
      "<center> $ma = F_g + F_b + F_d^{(S)/(q)},$</center> \n",
      "\n",
      "The gravity froce is $F_g = -mg$, where $m$ is the mass of the body, $g$ is the acceleration of gravity. The uplift or buoyancy force (\"Archimedes force\") is $F_b = \\varrho g V$, where $\\varrho$ is the density of the fluid and $V$ is the volume of the body. The drag force is of two types, depending on the Reynolds number\n",
      "\n",
      "<center> $\\text{Re}=\\frac{\\varrho d|v|}{\\mu},$</center> \n",
      "\n",
      "where $d$ is the diameter of the body in the direction perpendicular to the flow, $v$ is the velocity of the body, and $\\mu$ is the dynamic viscosity of the fluid. When $\\text{Re}< 1$, the drag force is fairly well modeled by the so-called Stokes` drag, which for a spherical body of diameter $d$ reads\n",
      "\n",
      "<center> $F_d^{(S)}=\u22123\\pi d \\mu v.$</center> \n",
      "\n",
      "\n",
      "For large $\\text{Re}$, typically $\\text{Re}>10^3$, the drag force is quadratic in the velocity:\n",
      "\n",
      "<center> $F_d^{(q)}=\u2212\\frac{1}{2}C_D\\varrho A|v|v,$</center> \n",
      "\n",
      "where $C_D$ is a dimensionless drag coefficient depending on the body's shape, and A is the cross-sectional area as produced by a cut plane, perpendicular to the motion, through the thickest part of the body. The superscripts $q$ and $S$ in $F_d^{(S)}$ and $F_d^{(S)}$ indicates Stokes drag and quadratic drag, respectively.\n",
      "\n",
      "By using $a =dv/dt$ and $m =\\varrho_bV$, with $\\varrho_b$ as the density of the body, the equation of motion with Stokes drag can be expressed as:\n",
      "\n",
      "<center> $v'(t) = - \\frac{3\\pi d\\mu}{\\varrho_b V} v + g\\left(\\frac{\\varrho}{\\varrho_b} -1\\right)  = -a v+b, $</center> \n",
      "\n",
      "where $a =\\frac{3\\pi d\\mu}{\\varrho_b V}$ and $b = g\\left(\\frac{\\varrho}{\\varrho_b} -1\\right)$. Using quadratic drag force we get \n",
      "\n",
      "<center> $ v'(t) = -{1\\over2}C_D{\\varrho A\\over\\varrho_b V}|v|v + g\\left({\\varrho\\over\\varrho_b} - 1\\right)\n",
      "= -a |v|v+b$</center> \n",
      "\n",
      "where $a = {1\\over2}C_D{\\varrho A\\over\\varrho_b V}$ and $b$ is defined as as above.\n",
      "\n"
     ]
    },
    {
     "cell_type": "markdown",
     "metadata": {},
     "source": [
      "---\n",
      "## Numerical solution method\n",
      "\n",
      "We introduce a mesh in time with points $0= t_0< t_1 \\cdots < t_{N_t}=T$.\n",
      "For simplicity, we assume constant spacing $\\Delta t$ between the\n",
      "mesh points: $\\Delta t = t_{n}-t_{n-1}$, $n=1,\\ldots,N_t$. Let\n",
      "$u^n$ be the numerical approximation to the exact solution at $t_n$.\n",
      "\n",
      "The $\\theta$-rule is used to solve the differential equation numerically:\n",
      "\n",
      "- Quadratic drag force:\n",
      "<center> \n",
      "$ u^{n+1} = \\frac{u_n + \\Delta t b}{1 + \\Delta t a|u^{n}|}$\n",
      "</center>\n",
      "\n",
      "- Stokes drag force:\n",
      "<center> \n",
      "$u^{n+1} = \\frac{1 - (1-\\theta) a\\Delta t}{1 + \\theta a\\Delta t}u^n + \\frac{b\\Delta t}{1 + \\theta a\\Delta t},$\n",
      "</center>\n",
      "\n",
      "\n",
      "for $n=0,1,\\ldots,N_t-1$. This scheme corresponds to\n",
      "\n",
      "  * The [Forward Euler](http://en.wikipedia.org/wiki/Forward_Euler_method)\n",
      "    scheme when $\\theta=0$\n",
      "\n",
      "  * The [Backward Euler](http://en.wikipedia.org/wiki/Backward_Euler_method)\n",
      "    scheme when $\\theta=1$\n",
      "\n",
      "  * The [Crank-Nicolson](http://en.wikipedia.org/wiki/Crank-Nicolson)\n",
      "    scheme when $\\theta=1/2$\n",
      "\n",
      "\n",
      "\n"
     ]
    },
    {
     "cell_type": "code",
     "collapsed": false,
     "input": [],
     "language": "python",
     "metadata": {},
     "outputs": []
    }
   ],
   "metadata": {}
  }
 ]
}