{
 "metadata": {
  "name": ""
 },
 "nbformat": 3,
 "nbformat_minor": 0,
 "worksheets": [
  {
   "cells": [
    {
     "cell_type": "markdown",
     "metadata": {},
     "source": [
      "# Project 3: Nonlinear diffusion equation\n",
      "\n",
      "*Summary.* The goal of this project is to discuss various numerical aspects of a nonlinear diffusion model."
     ]
    },
    {
     "cell_type": "markdown",
     "metadata": {},
     "source": [
      "---\n",
      "## Mathematical problem\n",
      "We look at the PDE problem\n",
      "\n",
      "\\begin{align*}\n",
      "\\varrho u_t &= \\nabla\\cdot (\\alpha (u)\\nabla u) + f(\\pmb{x}, t),\\quad &t >0\\\\\n",
      "u(\\pmb{x},0) &= I(\\pmb{x}),\\quad &\\pmb{x}\\in\\Omega\\\\\n",
      "\\alpha (u(\\pmb{x},t))\\frac{\\partial}{\\partial n} u(\\pmb{x}, t) &= 0,\\quad &\\pmb{x}\\in\\partial\\Omega_N\n",
      "\\end{align*}\n",
      "\n",
      "The coefficiet $\\varrho$ is constant and $\\alpha (u)$ is a known function of $u$."
     ]
    },
    {
     "cell_type": "markdown",
     "metadata": {},
     "source": [
      "---\n",
      "## Discretization in time\n",
      "First we need a mesh in time, here taken as uniform with mesh points $t_n=n \\Delta t$, $n=0,1,\u2026,N_t$. A Backward Euler scheme consists of sampling at $t_n$ and approximating the time derivative by a backward difference \n",
      "\n",
      "$$[D_t^- u]^n\\approx (u^{n}-u^{n-1})/\\Delta t.$$\n",
      "\n",
      "This approximation turns our PDE into a differential equation that is discrete in time, but still continuous in space. With a finite difference operator notation we can write the time-discrete problem as\n",
      "\n",
      "$$\n",
      "[D_t^- \\varrho u = \\nabla\\cdot (\\alpha (u)\\nabla u) + f(\\boldsymbol{x}, t)]^n\n",
      "{\\thinspace .}\n",
      "$$\n",
      "\n",
      "which gives the nonlinear time-discrete PDEs\n",
      "\n",
      "$$\n",
      "u^{n} - \\frac{\\Delta t}{\\varrho} \\left[ \\nabla\\cdot (\\alpha (u)\\nabla u^n) + f(\\boldsymbol{x}, t_{n})\\right] = {u}^{n-1}\n",
      "$$\n",
      "\n",
      "or with $u^n = u$ and $u^{n-1} = u_1$:\n",
      "\n",
      "$$\n",
      "u - \\frac{\\Delta t}{\\varrho}\\nabla\\cdot({\\alpha}(u^n)\\nabla u) -\\frac{\\Delta t}{\\varrho} f(\\boldsymbol{x}, t_{n}) = u_1{\\thinspace .}\n",
      "$$\n",
      "\n",
      "From the last equation we can define the residual:\n",
      "\n",
      "$$\n",
      "R = u - \\frac{\\Delta t}{\\varrho}\\nabla\\cdot({\\alpha}(u)\\nabla u) -\\frac{\\Delta t}{\\varrho} f(\\boldsymbol{x}, t_{n}) - u_1{\\thinspace .}\n",
      "$$"
     ]
    },
    {
     "cell_type": "markdown",
     "metadata": {},
     "source": [
      "---\n",
      "## The variational form"
     ]
    },
    {
     "cell_type": "markdown",
     "metadata": {},
     "source": [
      "The least-squares principle is equivalent to demanding the error to be orthogonal to the space $V$ when approximating a function $f$ by $u \\in V$. With a differential equation we do not know the true error so we must instead require the residual $R$ to be orthogonal to $V$. This idea implies seeking $\\left\\{ {c}_i \\right\\}_{i\\in{\\mathcal{I}_s}}$ such that\n",
      "\n",
      "$$\n",
      "(R,v)=0,\\quad \\forall v\\in V{\\thinspace .}\n",
      "$$\n",
      "\n",
      "This statement is equivalent to $R$ being orthogonal to the $N+1$ basis functions only:\n",
      "\n",
      "$$\n",
      "(R,{\\psi}_i)=0,\\quad i\\in{\\mathcal{I}_s},\n",
      "$$\n",
      "\n",
      "resulting in $N+1$ equations for determining $\\left\\{ {c}_i \\right\\}_{i\\in{\\mathcal{I}_s}}$. The variational form for our specific case is given by \n",
      "\n",
      "\\begin{align*}\n",
      "\\int_\\Omega (u{\\psi}_i - \\frac{\\Delta t}{\\varrho}\\nabla\\cdot({\\alpha}(u^n)\\nabla u) {\\psi}_i  - \\frac{\\Delta t}{\\varrho} f(\\boldsymbol{x}, t_{n}){\\psi}_i - u_1{\\psi}_i){\\, \\mathrm{d}x} &= 0\\\\\n",
      "\\int_\\Omega (u{\\psi}_i - \\frac{\\Delta t}{\\varrho} \\left[\n",
      "-\\int_{\\Omega}{\\alpha(u)}\\nabla u\\cdot\\nabla{\\psi}_i{\\, \\mathrm{d}x} +\n",
      "\\int_{\\partial\\Omega}{\\alpha(u)}\\frac{\\partial u}{\\partial n}{\\psi}_i {\\, \\mathrm{d}x} \\right]\n",
      "- \\frac{\\Delta t}{\\varrho} f(\\boldsymbol{x}, t_{n}){\\psi}_i - u_1{\\psi}_i){\\, \\mathrm{d}x} &= 0\\\\\n",
      "\\int_\\Omega (u{\\psi}_i + \\frac{\\Delta t}{\\varrho}{\\alpha}(u)\\nabla u\\cdot\\nabla {\\psi}_i  - \\frac{\\Delta t}{\\varrho} f(\\boldsymbol{x}, t_{n}){\\psi}_i - u_1{\\psi}_i){\\, \\mathrm{d}x} &= 0\n",
      "\\end{align*}\n",
      "\n",
      "or more compactly\n",
      "\n",
      "$$\n",
      "(u,{\\psi}_i) + \\frac{\\Delta t}{\\varrho} ({\\alpha}\\nabla u,\\nabla{\\psi}_i)\n",
      "= (u_1{\\psi}_i) + \\frac{\\Delta t}{\\varrho} (f^n,{\\psi}_i)\n",
      "$$\n",
      "\n",
      "###Initial condition\n",
      "\n",
      "The variational form for the initial condition is found by expanding \n",
      "\n",
      "$$\n",
      "u(\\pmb{x},0) = \\sum_j c_j^0 \\psi_j(\\pmb{x}) = I(\\pmb{x})\n",
      "$$\n",
      "\n",
      "The Galerkin method implies\n",
      "\n",
      "$$\n",
      "\\left(\\sum_j c_j^0 \\psi_j(\\pmb{x}) - I(\\pmb{x}),{\\psi}_i \\right)=0,\\quad i\\in{\\mathcal{I}_s},\n",
      "$$\n",
      "\n",
      "or \n",
      "\n",
      "$$\n",
      "\\sum_j (\\psi_j, {\\psi}_i) c_j^0 =  (I,{\\psi}_i)\n",
      "$$\n"
     ]
    },
    {
     "cell_type": "markdown",
     "metadata": {},
     "source": [
      "---\n",
      "##  Picard iteration method at the PDE level\n",
      "\n",
      "Our aim is to discretize the problem in time and then present techniques\n",
      "for linearizing the time-discrete PDE problem \"at the PDE level\" such that\n",
      "we transform the nonlinear stationary PDE problems at each time level into a\n",
      "sequence of linear PDE problems, which can be solved using any method for\n",
      "linear PDEs. In our case we have \n",
      "\n",
      "$$\n",
      "u = \\frac{\\Delta t}{\\varrho}\\nabla\\cdot({\\alpha}(u)\\nabla u) +\\frac{\\Delta t}{\\varrho} f(\\boldsymbol{x}, t_{n}) + u_1\n",
      "$$\n",
      "\n",
      "which is nonlinear beacuse of the dependency on $u$ in the variable coefficient $\\alpha$. Picard iteration needs a linearization where we use the most recent approximation $u_-$ to $u$ in $\\alpha$:\n",
      "\n",
      "\n",
      "$$\n",
      "u = -\\frac{\\Delta t}{\\varrho}\\nabla\\cdot({\\alpha}(u_-)\\nabla u) +\\frac{\\Delta t}{\\varrho} f(\\boldsymbol{x}, t_{n}) + u_1\n",
      "$$\n",
      "\n",
      "In variational form is given by\n",
      "\n",
      "$$\n",
      "(u,{\\psi}_i) + \\frac{\\Delta t}{\\varrho} ({\\alpha(u_-)}\\nabla u,\\nabla{\\psi}_i)\n",
      "= (u_1{\\psi}_i) + \\frac{\\Delta t}{\\varrho} (f^n,{\\psi}_i)\n",
      "$$"
     ]
    },
    {
     "cell_type": "markdown",
     "metadata": {},
     "source": [
      "---\n",
      "##  Convergence test\n",
      "\n",
      "The first verification of the FEniCS implementation may assmue $\\alpha (u)=1$, $f=0$, $\\Omega = [0,1]\\times [0,1]$, P1 elements, and $I(x,y)=\\cos(\\pi x)$. The exact solution is then $u(x,y,t)=e^{-\\pi^2 t}\\cos (\\pi x)$. The error in space is then ${\\cal O}(\\Delta x^2) + {\\cal O}(\\Delta y^2)$, while the error in time is ${\\cal O}(\\Delta t^p)$, with $p=1$ for the Backward Euler scheme and $p=2$ for the Crank-Nicolson or the 2-step backward schemes. We set $h=\\Delta t^p = \\Delta x^2$ and perform a convergence rate study as $h$ is decreased, using Backward Euler scheme:\n",
      "\n",
      "\n",
      "    h =  0.1       E =  0.000497030720246  r =  1.22455181028\n",
      "    h =  0.05      E =  0.000212694571666  r =  1.66702631777\n",
      "    h =  0.025     E =  6.69778929328e-05  r =  1.60581512224\n",
      "    h =  0.0125    E =  2.20055871886e-05  r =  1.09776873673\n",
      "    h =  0.00625   E =  1.02818589919e-05  r =  1.03661750021\n",
      "    h =  0.003125  E =  5.01208793551e-06  r =  1.0386373625\n",
      "    \n",
      "\n",
      "where $r = E/h$, which is approximately constant, as expected."
     ]
    },
    {
     "cell_type": "markdown",
     "metadata": {},
     "source": [
      "---\n",
      "##  Manufactored solution\n",
      "\n",
      "To get an indication whether the implementation of the nonlinear diffusion PDE is correct or not, we can use the method of manufactured solutions. Say we restrict the problem to one space dimension, $\\Omega=[0,1]$, and choose\n",
      "\n",
      "$$\n",
      "u(x,t) = t\\int_0^x q(1-q)dq = tx^2\\left(\\frac{1}{2} - \\frac{x}{3}\\right)\n",
      "$$\n",
      "\n",
      "and $\\alpha(u) = 1+u^2$. The following sympy session computes an $f(x,t)$ such that the above $u$ is a solution of the PDE problem:"
     ]
    },
    {
     "cell_type": "code",
     "collapsed": false,
     "input": [
      "from sympy import *\n",
      "\n",
      "def a(u):\n",
      "    return 1 + u**2\n",
      "\n",
      "def u_simple(x, t):\n",
      "    return x**2*(Rational(1,2) - x/3)*t\n",
      "\n",
      "x, t, p, dt = symbols('x[0] t p dt')\n",
      "for x_point in 0, 1:\n",
      "     print 'u_x(%s,t):' % x_point,\n",
      "     print diff(u_simple(x, t), x).subs(x, x_point).simplify()\n",
      "\n",
      "print 'Initial condition:', u_simple(x, 0)\n",
      "\n",
      "u = u_simple(x, t)\n",
      "f = p*diff(u, t) - diff(a(u)*diff(u, x), x)\n",
      "print ccode(f.simplify())"
     ],
     "language": "python",
     "metadata": {},
     "outputs": [
      {
       "output_type": "stream",
       "stream": "stdout",
       "text": [
        "u_x(0,t): 0\n",
        "u_x(1,t): 0\n",
        "Initial condition: 0\n",
        "-p*pow(x[0], 3)/3 + p*pow(x[0], 2)/2 + 8*pow(t, 3)*pow(x[0], 7)/9 - 28*pow(t, 3)*pow(x[0], 6)/9 + 7*pow(t, 3)*pow(x[0], 5)/2 - 5*pow(t, 3)*pow(x[0], 4)/4 + 2*t*x[0] - t"
       ]
      },
      {
       "output_type": "stream",
       "stream": "stdout",
       "text": [
        "\n"
       ]
      }
     ],
     "prompt_number": 36
    },
    {
     "cell_type": "markdown",
     "metadata": {},
     "source": [
      "We get the following results for different final times:\n",
      "\n",
      "    T =  0.1  E =  3.7822919294e-08\n",
      "    T =  0.5  E =  1.86763505521e-06\n",
      "    T =  1.0  E =  9.02389336352e-06\n",
      "    T =  2.0  E =  4.29791921834e-05\n",
      "    T =  3.0  E =  0.000131418978921\n",
      "\n",
      "For much higher values of $T$, the error become more significant, which is due to the error in the  single Picard iteration. "
     ]
    },
    {
     "cell_type": "markdown",
     "metadata": {},
     "source": [
      "---\n",
      "## Sources of numerical errors\n",
      "\n",
      "* Truncation error from approximating the function with piecewise linear elements.\n",
      "\n",
      "* Error due to a single Picard iteration\n",
      "\n",
      "* Time discretisation (not explicitly due to the FEniCS)"
     ]
    }
   ],
   "metadata": {}
  }
 ]
}