{
 "metadata": {
  "name": ""
 },
 "nbformat": 3,
 "nbformat_minor": 0,
 "worksheets": [
  {
   "cells": [
    {
     "cell_type": "markdown",
     "metadata": {},
     "source": [
      "<div align=center>\n",
      "#Project 2: 2D wave equation\n",
      "\n",
      "\n",
      "*Summary.* The aim of this project is to develop a solver for the two-dimensional, standard, linear wave equation, with damping, and verify the solver."
     ]
    },
    {
     "cell_type": "markdown",
     "metadata": {},
     "source": [
      "---\n",
      "## Mathematical problem\n",
      "The general wave equation in $d$ space dimensions, with variable coefficients, can be written in the compact form\n",
      "\n",
      "$$\n",
      "\\varrho\\frac{\\partial^2 u}{\\partial t^2} +b \\frac{\\partial u}{\\partial t} = \\nabla\\cdot (q\\nabla u) + f\\hbox{ for }\\boldsymbol{x}\\in\\Omega\\subset\\mathbb{R}^d,\\ t\\in (0,T],\n",
      "$$\n",
      "\n",
      "which in 2D becomes\n",
      "\n",
      "$$\n",
      "\\varrho(x,y)\n",
      "\\frac{\\partial^2 u}{\\partial t^2} +b \\frac{\\partial u}{\\partial t} =\n",
      "\\frac{\\partial}{\\partial x}\\left( q(x,y)\n",
      "\\frac{\\partial u}{\\partial x}\\right)\n",
      "+\n",
      "\\frac{\\partial}{\\partial y}\\left( q(x,y)\n",
      "\\frac{\\partial u}{\\partial y}\\right)\n",
      "+ f(x,y,t)\n",
      "\\thinspace .\n",
      "$$\n",
      "To save some writing and space we may use the index notation, where subscript $t$, $x$ or $y$ means differentiation with respect to that coordinate, i.e.\n",
      "\n",
      "\\begin{align*}\n",
      "u_{t} &=\\frac{\\partial u}{\\partial t} ,\n",
      "\\quad u_{tt} =\\frac{\\partial^2 u}{\\partial t^2}\\\\\n",
      "u_{x} &=\\frac{\\partial u}{\\partial x} ,\n",
      "\\quad u_{xx} =\\frac{\\partial^2 u}{\\partial x^2}\\\\\n",
      "u_{y} &=\\frac{\\partial u}{\\partial t} ,\n",
      "\\quad u_{yy} =\\frac{\\partial^2 u}{\\partial y^2}\\\\\n",
      "(q u_x)_x &= \\frac{\\partial}{\\partial x}\\left( q(x,y)\n",
      "\\frac{\\partial u}{\\partial x}\\right)\n",
      "\\\\\n",
      "(q u_y)_y\\ &=\\frac{\\partial}{\\partial y}\\left( q(x,y)\n",
      "\\frac{\\partial u}{\\partial y}\\right)\n",
      "\\thinspace .\n",
      "\\end{align*}\n",
      "The 2D versions of the two model PDEs, with and without variable coefficients, can with now with the aid of the index notation for differentiation be stated as\n",
      "$$\n",
      "\\varrho u_{tt} + b u_{t}= (q u_x)_x + (q u_z)_z + (q u_z)_z + f\n",
      "$$\n",
      "For our project, we will use $\\varrho = 1$.\n",
      "\n",
      "Since this PDE contains a second-order derivative in time, we need two initial conditions; (1) the initial shape of the string, $I$, and (2) the initial velocity of the string, $V$;\n",
      "\n",
      "\\begin{align*}\n",
      "u(x,y,0)&=I(x,y),\\\\\n",
      "u_t(x,y,0)&=V(x,y).\n",
      "\\end{align*}\n",
      "\n",
      "In addition, PDEs need boundary conditions, which are of three principal types:\n",
      "\n",
      "* Dirchlet boundary condition: $u$ is given for the boundaries ($u=0$ or a known time variation for an incoming wave).\n",
      "* Neumann boundary condition: $\\partial u/\\partial n = \\boldsymbol{n}\\cdot\\nabla u$ (zero for reflecting boundaries).\n",
      "* Open boundary condition (also called radiation condition): Specified to let waves travel undisturbed out of the domain.\n",
      "\n",
      "We will in this project focus on the Neumann boundary condition.\n"
     ]
    },
    {
     "cell_type": "markdown",
     "metadata": {},
     "source": [
      "---\n",
      "## Discretization\n",
      "\n",
      "In this section we will derive the discrete set of equations to be implemented in a program. We will for simplicity assume constant spacing between the mesh points. Our mesh points are\n",
      "\n",
      "$$\n",
      "x_i = i\\Delta x,\\ i=0,\\ldots,N_x,\\quad \\\\ \n",
      "y_j = j\\Delta y,\\ j=0,\\ldots,N_y,\\quad \\\\\n",
      "t_i = n\\Delta t,\\ n=0,\\ldots,N_t{\\thinspace .}\n",
      "$$\n",
      "\n",
      "Note that this results in a number of $N_x + 1$ mesh points in $x$-direction, and $N_y + 1$ and $N_n + 1$ for $y$ and $t$.\n",
      "Our goal is to find the solution $u(x,y,t)$ that fulfills the above stated wave equation for all mesh points. We introduce the mesh function $u_{i,j}^n$, which approximates the exact solution at the mesh point $(x_i,y_j,t_n)$ for $i=0,\\ldots,N_x$, $j=0,\\ldots,N_y$  and $n=0,\\ldots,N_t$. "
     ]
    },
    {
     "cell_type": "markdown",
     "metadata": {},
     "source": [
      "###Replacing derivatives by finite differences\n",
      "The second-order derivatives can be replaced by central differences. The most widely used difference approximation of the second-order derivative is\n",
      "\n",
      "$$\n",
      "\\frac{\\partial^2}{\\partial t^2}u(x_i,y_j,t_n)\\approx\n",
      "\\frac{u_{i,j}^{n+1} - 2u_{i,j}^n + u^{n-1}_{i,j}}{\\Delta t^2}{\\thinspace .}\n",
      "$$\n",
      "\n",
      "It is convenient to introduce the finite difference operator notation\n",
      "\n",
      "$$\n",
      "[D_tD_t u]^n_{i,j} = \\frac{u_{i,j}^{n+1} - 2u_{i,j}^n + u^{n-1}_{i,j}}{\\Delta t^2}{\\thinspace .}\n",
      "$$\n",
      "\n",
      "The first-order derivative in time in the damping term can be approximated by\n",
      "\n",
      "$$\n",
      "[D_{2t} u]^n_{i,j} = \\frac{u_{i,j}^{n+1} - u^{n-1}_{i,j}}  {2\\Delta t}{\\thinspace .}\n",
      "$$\n"
     ]
    },
    {
     "cell_type": "markdown",
     "metadata": {},
     "source": [
      "###Discretizing the variable coefficient\n",
      "The principal idea is to first discretize the outer derivative. We define\n",
      "\n",
      "$$\n",
      "\\phi^x = q(x,y)\n",
      "\\frac{\\partial u}{\\partial x},\n",
      "$$\n",
      "and use a centered derivative around $x=x_i$ for the derivative of $\\phi$:\n",
      "\n",
      "$$\n",
      "\\left[\\frac{\\partial\\phi^x}{\\partial x}\\right]^n_i\n",
      "\\approx \\frac{\\phi^x_{i+\\frac{1}{2}} - \\phi^x_{i-\\frac{1}{2}}}{\\Delta x}\n",
      "= [D_x\\phi^x]^n_i\n",
      "\\thinspace .\n",
      "$$\n",
      "\n",
      "We then discretize $\\phi^x$ further as\n",
      "\n",
      "$$\n",
      "\\phi^x_{i+\\frac{1}{2}}  = q_{i+\\frac{1}{2}}\n",
      "\\left[\\frac{\\partial u}{\\partial x}\\right]^n_{i+\\frac{1}{2}}\n",
      "\\approx q_{i+\\frac{1}{2}} \\frac{u^n_{i+1} - u^n_{i}}{\\Delta x}\n",
      "= [q D_x u]_{i+\\frac{1}{2}}^n\n",
      "\\thinspace .\n",
      "$$\n",
      "Similarly,\n",
      "\n",
      "$$\n",
      "\\phi^x_{i-\\frac{1}{2}}  = q_{i-\\frac{1}{2}}\n",
      "\\left[\\frac{\\partial u}{\\partial x}\\right]^n_{i-\\frac{1}{2}}\n",
      "\\approx q_{i-\\frac{1}{2}} \\frac{u^n_{i} - u^n_{i-1}}{\\Delta x}\n",
      "= [q D_x u]_{i-\\frac{1}{2}}^n\n",
      "\\thinspace .\n",
      "$$\n",
      "These intermediate results are now combined to\n",
      "\n",
      "$$\n",
      "\\left[\n",
      "     \\frac{\\partial}{\\partial x}\\left( q\n",
      "     \\frac{\\partial u}{\\partial x}\\right)\\right]^n_i\n",
      "     \\approx \\frac{1}{\\Delta x^2}\n",
      "     \\left( q_{i+\\frac{1}{2}} \\left({u^n_{i+1} - u^n_{i}}\\right)\n",
      "     - q_{i-\\frac{1}{2}} \\left({u^n_{i} - u^n_{i-1}}\\right)\\right)\n",
      "$$\n",
      "With operator notation we can write the discretization as\n",
      "\n",
      "$$\n",
      "\\left[\n",
      "     \\frac{\\partial}{\\partial x}\\left( q\n",
      "     \\frac{\\partial u}{\\partial x}\\right)\\right]^n_i\n",
      "     \\approx [D_xq D_x u]^n_i\n",
      "$$\n",
      "\n",
      "Similarly for\n",
      "\n",
      "$$\n",
      "\\phi^y = q(x,y)\n",
      "\\frac{\\partial u}{\\partial y}.\n",
      "$$ \n",
      "\n",
      "we have \n",
      "\n",
      "$$\n",
      "\\left[\n",
      "     \\frac{\\partial}{\\partial y}\\left( q\n",
      "     \\frac{\\partial u}{\\partial y}\\right)\\right]^n_i\n",
      "     \\approx [D_yq D_y u]^n_i\n",
      "$$\n",
      "\n",
      "In order to compute $[D_xq D_x u]^n_i$ and $[D_yq D_y u]^n_i$ we need to evaluate $q_{i\\pm\\frac{1}{2},j}$ and $q_{i,j\\pm\\frac{1}{2}}$. If $q$ is a known function, we can easily evaluate $q_{i\\pm\\frac{1}{2},j}$ simply as $q(x_{i\\pm\\frac{1}{2}},y_j)$ with $x_{i+\\frac{1}{2}} = x_i + \\frac{1}{2}\\Delta x$. However, in many cases $q$, is only known as a discrete function, and evaluating must be done by averaging. The most commonly used averaging technique is the arithmetic mean:\n",
      "\n",
      "$$\n",
      "q_{i+\\frac{1}{2},j} \\approx\n",
      "     \\frac{1}{2}\\left(q_{i+1,j}+ q_{i,j}\\right) =\n",
      "     [\\overline{q}^{x}]_{i+\\frac{1}{2},j},\\\\\n",
      "q_{i-\\frac{1}{2},j} \\approx\n",
      "     \\frac{1}{2}\\left(q_{i,j}+ q_{i-1,j}\\right) =\n",
      "     [\\overline{q}^{x}]_{i-\\frac{1}{2},j},  \n",
      "$$\n",
      "\n",
      "which we are going to use in this project."
     ]
    },
    {
     "cell_type": "markdown",
     "metadata": {},
     "source": [
      "###Algebraic version of the initial conditions\n",
      "The initial conditions are given as \n",
      "\n",
      "\\begin{align*}\n",
      "u(x,y,t_0)&=I(x,y),\\\\\n",
      "u_t(x,y,t_0)&=V(x,y).\n",
      "\\end{align*}\n",
      "\n",
      "The first condition can be computed by \n",
      "\n",
      "$$\n",
      "u_i^0 = I(x_i),\\quad i=0,\\ldots,N_x{\\thinspace .}\n",
      "$$\n",
      "\n",
      "For the second one we use a centered difference of type\n",
      "\n",
      "$$\n",
      "\\frac{\\partial}{\\partial t} u(x_i,y_j,t_0)\\approx\n",
      "\\frac{u^1_{i,j} - u^{-1}_{i,j}}{2\\Delta t} = [D_{2t} u]^0_{i,j} = V(x_i,y_j).\n",
      "$$\n"
     ]
    },
    {
     "cell_type": "markdown",
     "metadata": {},
     "source": [
      "###Algebraic version of the PDE \n",
      "\n",
      "####Interior spatial mesh points\n",
      "The PDE with variable coefficients is discretized term by term:\n",
      "\n",
      "$$\n",
      "[\\varrho D_tD_t u + b D_{2t} u  = (D_x\\overline{q}^x D_x u +\n",
      "D_y\\overline{q}^y D_yu ) + f]^n_{i,j}\n",
      "\\thinspace .\n",
      "$$\n",
      "\n",
      "When written out and solved for the unknown $u^{n+1}_{i,j}$ one gets the scheme\n",
      "\n",
      "\n",
      "\\begin{align*}u^{n+1}_{i,j} &= \n",
      "\\Bigg\\{\n",
      "2u^{n}_{i,j} + u^{n-1}_{i,j}\\left[\\frac{b \\Delta t}{2\\varrho_{i,j}} - 1\\right]+\\frac{\\Delta t^2}{\\varrho_{i,j}} f^n_{i,j} \\\\\n",
      "&+ \\frac{1}{\\varrho_{i,j}}\\frac{\\Delta t^2}{\\Delta x^2} \n",
      "\\left[ \\frac{1}{2}(q_{i,j} + q_{i+1,j})(u^{n}_{i+1,j} - u^{n}_{i,j}) - \\frac{1}{2}(q_{i-1,j} + q_{i,j})(u^{n}_{i,j} - u^{n}_{i-1,j})\\right] \\\\\n",
      "&+ \\frac{1}{\\varrho_{i,j}}\\frac{\\Delta t^2}{\\Delta y^2} \n",
      "\\left[ \\frac{1}{2}(q_{i,j} + q_{i,j+1})(u^{n}_{i,j+1} - u^{n}_{i,j}) -\\frac{1}{2}(q_{i,j-1} + q_{i,j})(u^{n}_{i,j} - u^{n}_{i,j-1})\\right]\n",
      "\\Bigg\\} \\left(\\frac{1}{1+ \\frac{b\\Delta t}{2\\varrho_{i,j} }}\\right )\n",
      "\\thinspace .\\end{align*}"
     ]
    },
    {
     "cell_type": "markdown",
     "metadata": {},
     "source": [
      "####Modified scheme for the first step\n",
      "A problem with algebraic version of the PDE equation arises when $n=0$ since the formula for $u^1_{i,j}$ involves $u^{-1}_{i,j}$, which is an undefined quantity outside the time mesh (and the time domain). However, we can use the initial condition to arrive at a special formula for $u^1_{i,j}$. From initial condition we have\n",
      "\n",
      "$$ V_{i,j} = [D_{2t} u]_{i,j}^0 = \\frac{u_{i,j}^{1} - u_{i,j}^{-1}}{2\\Delta t}\u00a0$$\n",
      "\n",
      "which may be rewritten to find $u_{i,j}^{-1}$ as\n",
      "\n",
      "$$\n",
      " u^{-1}_{i,j} =u^1_{i,j} -  2\\Delta t V_{i,j}.\n",
      "$$\n",
      "\n",
      "Inserting this into the algebraic version of the PDE equation for $n=0$ gives:\n",
      "\n",
      "\n",
      "\\begin{align*}u^{1}_{i,j} &= \n",
      "\\Bigg\\{\n",
      "2u^{0}_{i,j} + \\left( u^1_{i,j} -  2\\Delta t V_{i,j} \\right)\\left[\\frac{b \\Delta t}{2\\varrho_{i,j}} - 1\\right]+\\frac{\\Delta t^2}{\\varrho_{i,j}} f^0_{i,j} \\\\\n",
      "&+ \\frac{1}{\\varrho_{i,j}}\\frac{\\Delta t^2}{\\Delta x^2} \n",
      "\\left[ \\frac{1}{2}(q_{i,j} + q_{i+1,j})(u^{0}_{i+1,j} - u^{0}_{i,j}) - \\frac{1}{2}(q_{i-1,j} + q_{i,j})(u^{0}_{i,j} - u^{0}_{i-1,j})\\right] \\\\\n",
      "&+ \\frac{1}{\\varrho_{i,j}}\\frac{\\Delta t^2}{\\Delta y^2} \n",
      "\\left[ \\frac{1}{2}(q_{i,j} + q_{i,j+1})(u^{0}_{i,j+1} - u^{0}_{i,j}) -\\frac{1}{2}(q_{i,j-1} + q_{i,j})(u^{0}_{i,j} - u^{0}_{i,j-1})\\right]\n",
      "\\Bigg\\} \\left(\\frac{1}{1+ \\frac{b\\Delta t}{2\\varrho_{i,j} }}\\right )\n",
      "\\thinspace .\\end{align*}\n",
      "\n",
      "Thus, the special formula for $u^1_{i,j}$ is\n",
      "\n",
      "\\begin{align*}\n",
      "u^{1}_{i,j} &= \n",
      "\\frac{1}{2}\\Bigg\\{\n",
      "2u^{0}_{i,j}  -  2\\Delta t V_{i,j} \\left[\\frac{b \\Delta t}{2\\varrho_{i,j}} - 1\\right]+\\frac{\\Delta t^2}{\\varrho_{i,j}} f^0_{i,j} \\\\\n",
      "&+ \\frac{1}{\\varrho_{i,j}}\\frac{\\Delta t^2}{\\Delta x^2} \n",
      "\\left[ \\frac{1}{2}(q_{i,j} + q_{i+1,j})(u^{0}_{i+1,j} - u^{0}_{i,j}) - \\frac{1}{2}(q_{i-1,j} + q_{i,j})(u^{0}_{i,j} - u^{0}_{i-1,j})\\right] \\\\\n",
      "&+ \\frac{1}{\\varrho_{i,j}}\\frac{\\Delta t^2}{\\Delta y^2} \n",
      "\\left[ \\frac{1}{2}(q_{i,j} + q_{i,j+1})(u^{0}_{i,j+1} - u^{0}_{i,j}) -\\frac{1}{2}(q_{i,j-1} + q_{i,j})(u^{0}_{i,j} - u^{0}_{i,j-1})\\right]\n",
      "\\Bigg\\}\n",
      "\\thinspace .\\end{align*}"
     ]
    },
    {
     "cell_type": "markdown",
     "metadata": {},
     "source": [
      "---\n",
      "## Boundary condition\n",
      " \n",
      "In a rectangular spatial domain $\\Omega = [0,L_x]\\times [0,L_y]$, the homogeneous Dirichlet condition, is given by \n",
      "\n",
      "$$\n",
      "u_{i,j}^{1} = u_{i,j}^{n+1} = 0 \n",
      "$$\n",
      "for $n=1,2,\\ldots,N_t-1$, when $i=0, \\; i=N_x,\\; j \\in [0,L_y]$ and when $j=0,\\; j=N_y,\\; i \\in [0,L_x]$. Note that $u_{i,j}^{0}$ is given by $I$, i.e. \n",
      "\n",
      "$$\n",
      "u_{i,j}^{0} = I(x_i,y_j) \\quad \\hbox{for   } i=0,\\ldots,N_x \\quad j=0,\\ldots,Ny\n",
      "$$\n",
      "\n",
      "The Neumann boundary condition is given by\n",
      "\n",
      "\\begin{equation}\n",
      " \\frac{\\partial u}{\\partial x}= \\frac{\\partial u}{\\partial y} = 0,\n",
      "\\end{equation}\n",
      "\n",
      "at $x = 0, N_x$ and $y = 0, N_y$. Since we have used central differences in all the other approximations to derivatives in the scheme, it is tempting to implement this condition by the difference\n",
      "\n",
      "\\begin{align*}\n",
      "[-D_{2x} u = 0]^n_{0,j},\\quad[D_{2x} u = 0]^n_{L_x,j}\n",
      "&\\Rightarrow\\quad u^n_{-1,j}=u^n_{1,j}, \\quad u^n_{N_x+1,j}=u^n_{N_x-1,j} \\\\\n",
      "[-D_{2y} u = 0]^n_{i,0},\\quad[D_{2y} u = 0]^n_{i,L_y}\n",
      "&\\Rightarrow\\quad u^n_{i,-1}=u^n_{i,1}, \\quad u^n_{i,N_y+1}=u^n_{i,N_y-1}\n",
      "\\thinspace .\n",
      "\\end{align*}\n",
      "\n",
      "\n",
      "The problem is that $ u^n_{-1,j}$, $u^n_{i,-1}$, $u^n_{N_x+1,j}$ and $u^n_{i,N_y+1}$ are not a $u$ values that are being computed since these points are outside the mesh. However we can use the relations given above and the algebraic version of the PDE equation to arrive at a modified scheme for the boundary points. The implementation of the special formulas for the boundary points can benefit from using the general formula for the interior points also at the boundaries, but replacing $u_{i-1,j}^n$ by $u_{i+1,j}^n$ when computing $u_{i,j}^{n+1}$ for $i=0$, and $u_{i+1,j}^n$ by $u_{i-1,j}^n$ when computing $u_{i,j}^{n+1}$ for $i=N_x$. A similar modification must be done for $j=0,N_y$. "
     ]
    },
    {
     "cell_type": "markdown",
     "metadata": {},
     "source": [
      "###Implementation of Neumann conditions via ghost cell\n",
      "\n",
      "Instead of modifying the scheme at the boundary, we can introduce extra points outside the domain such that the fictitious values  $ u^n_{-1,j}$, $u^n_{i,-1}$, $u^n_{N_x+1,j}$ and $u^n_{i,N_y+1}$ are defined in the mesh. Thus we add  the points $i=-1$, $i=N_x+1$, $j=-1$ and $j=N_y+1$, which are known as ghost points, and values at these points, are known as ghost points. The important idea is to ensure that we always have\n",
      "\n",
      "\\begin{align*}\n",
      " u^n_{-1,j}=u^n_{1,j}, \\quad u^n_{N_x+1,j}=u^n_{N_x-1,j} \\\\\n",
      "\\quad u^n_{i,-1}=u^n_{i,1}, \\quad u^n_{i,N_y+1}=u^n_{i,N_y-1}\n",
      "\\thinspace \n",
      "\\end{align*}\n",
      "because then the application of the standard scheme at a boundary point will be correct and guarantee that the solution is compatible with the boundary condition $u_x=0$ and $u_y=0$."
     ]
    },
    {
     "cell_type": "markdown",
     "metadata": {},
     "source": [
      "---\n",
      "## Truncation error\n",
      "\n",
      "Truncation error analysis provides a widely applicable framework for analyzing the accuracy of finite difference schemes and is a measure for the extent the exact solution $u_e$ fits the discrete equations. We define\n",
      "\n",
      "$$\n",
      "R = \\mathcal{L}_\\Delta({u_{\\small\\mbox{e}}}),\n",
      "$$\n",
      "where the residual $R$ is known as the truncation error of the finite difference scheme $\\mathcal{L}_\\Delta(u) = 0$.\n",
      "\n",
      "\n",
      "The algebraic version of the wave equation with variable coefficients and damping can be written as:\n",
      "\n",
      "$$\n",
      "[\\varrho D_tD_t u + b D_{2t} u  = (D_x\\overline{q}^x D_x u +\n",
      "D_y\\overline{q}^y D_yu ) + f]^n_{i,j}\n",
      "\\thinspace .\n",
      "$$\n",
      "Inserting the exact solution $u_e(x,y,t)$ in this equation makes this function fulfill the equation if we add the term $R$:\n",
      "\n",
      "$$\n",
      "[\\varrho D_tD_t u_e + b D_{2t} u_e  = (D_x\\overline{q}^x D_x u_e +\n",
      "D_y\\overline{q}^y D_yu_e ) + f+ R]^n_{i,j}\n",
      "\\thinspace .\n",
      "$$\n",
      "Our purpose is to calculate the truncation error $R$ and this can be done by taylor expantion of the terms in the PDE: \n",
      "\n",
      "$$ \n",
      "[D_t D_t{u_{\\small\\mbox{e}}}]_{i,j}^n = {u_{\\small\\mbox{e}, tt}}(x_i,y_j,t_n) +\n",
      "\\frac{1}{12}{u_{\\small\\mbox{e}, tttt}}(x_i,y_j,t_n)\\Delta t^2 + {\\mathcal{O}(\\Delta t^4)}\n",
      "$$\n",
      "\n",
      "\n",
      "$$\n",
      "\\lbrack D_{2t}u_e \\rbrack^n_{i,j} = u_{\\small\\mbox{e}, t}(x_i,y_j,t_n) \n",
      "+\\frac{1}{6}u_{\\small\\mbox{e}, ttt}(x_i,y_j,t_n) \\Delta t^2 + {\\mathcal{O}(\\Delta t^4)}\n",
      "$$\n",
      "\n",
      "$$ \n",
      "\\lbrack D_x \\overline{q}^{x}D_x {u_{\\small\\mbox{e}}} \\rbrack^n_{i,j} \n",
      "=\\left(q{u_{\\small\\mbox{e}, x}}\\right)_{x} +\n",
      "{\\mathcal{O}(\\Delta x^2)}{\\thinspace .}\n",
      "$$\n",
      "\n",
      "$$ \n",
      "\\lbrack D_y \\overline{q}^{y}D_y {u_{\\small\\mbox{e}}} \\rbrack^n_{i,j} \n",
      "=\\left(q{u_{\\small\\mbox{e}, y}}\\right)_{y} +\n",
      "{\\mathcal{O}(\\Delta y^2)}{\\thinspace .}\n",
      "$$\n",
      "\n",
      "Inserting all these terms into the discrete equation gives us\n",
      "\n",
      "\\begin{align*}\n",
      "&\\varrho\\left({u_{\\small\\mbox{e}, tt}}(x_i,y_j,t_n) +\n",
      "\\frac{1}{12}{u_{\\small\\mbox{e}, tttt}}(x_i,y_j,t_n)\\Delta t^2 + {\\mathcal{O}(\\Delta t^4)}\n",
      "\\right)\n",
      "+ b \\left(u_{\\small\\mbox{e}, t}(x_i,y_j,t_n) +\\frac{1}{6}u_{\\small\\mbox{e}, ttt}(x_i,y_j,t_n) \\Delta t^2 + {\\mathcal{O}(\\Delta t^4)} \\right) \\\\\n",
      "&= \\left(q(x_i,y_j){u_{\\small\\mbox{e}, x}}(x_i,y_j,t_n)\\right)_{x} +{\\mathcal{O}(\\Delta x^2)} \n",
      "+ \\left(q(x_i,y_j){u_{\\small\\mbox{e}, y}}(x_i,y_j,t_n)\\right)_{y} + {\\mathcal{O}(\\Delta y^2)}\n",
      "+f(x_i,y_j,t_n)+R^n_{i,j}\n",
      "\\end{align*}\n",
      "\n",
      "Because $u_e$ fulfills the partial differential equation (PDE):\n",
      "\n",
      "$$\n",
      "\\varrho u_{tt} + b u_{t}= (q u_x)_x + (q u_z)_z + (q u_z)_z + f\n",
      "$$\n",
      "\n",
      "some of the terms cancel out, and we are left with\n",
      "\n",
      "\\begin{align*}\n",
      "R^n_{i,j} = {\\mathcal{O}(\\Delta x^2)} + {\\mathcal{O}(\\Delta y^2)}+\\varrho\\left(\\frac{1}{12}{u_{\\small\\mbox{e}, tttt}}(x_i,y_j,t_n)\\Delta t^2 \\right)\n",
      "+ b \\left(\\frac{1}{6}u_{\\small\\mbox{e}, ttt}(x_i,y_j,t_n) \\Delta t^2 \n",
      "\\right) \n",
      "\\end{align*}\n",
      "\n",
      "The scheme is of second-order in time and space. The key ingredients for second order are the centered differences and the arithmetic mean for $q$: all those building blocks feature second-order accuracy."
     ]
    },
    {
     "cell_type": "markdown",
     "metadata": {},
     "source": [
      "---\n",
      "## Verification with cubic solution\n",
      "\n",
      "We assume an exact solution\n",
      "\n",
      "$$u_e(x,y,t) = X(x)Y(y)T(t)$$ \n",
      "\n",
      "where $X$, $Y$ and $T$ are polynomials of degree three or less. A solution that obeys the boundary condition of a vanishing normal derivative is found by setting\n",
      "\n",
      "$$X(x) = (2x^3 - 3 L_x x^2)$$\n",
      "$$Y(y) = (2y^3 - 3 L_x y^2)$$\n",
      "\n",
      "and\n",
      "\n",
      "$$T(t) = t$$\n",
      "\n",
      "The final choice of $T(t) = t$ simplifies the equation. Inserting this solution into the wave equation with $q(x,y)=q$ and $b=0$ we find\n",
      "\n",
      "$$f(x,y,t) = - q (12x - 6L_x) Y(y) T(t) - q X(x)(12y - 6L_y) T(t)$$\n",
      "\n",
      "which may now be used to verify the cubic solution. \n",
      "\n",
      "On the boundary, we need to check if we need to compensate for our discrete implementation of the boundary condition $\\frac{\\partial}{\\partial n}u_e$. This was implemented as\n",
      "\n",
      "$$ \\left [ D_{2x} u \\right]_{i}^n = 0 $$\n",
      "\n",
      "for $i=0$ and $i=N_x$. This does not hold for our cubic solution, because\n",
      "\n",
      "\\begin{align*} \n",
      "   \\left [ D_{2x} u_e \\right ]_{i}^n &= \\frac{u_e(x_i + \\Delta x) - u(x_i - \\Delta x)}{2 \\Delta x} \\\\\n",
      "                                     &= (6x_i^2 - 6 L_x x_i + 2 \\Delta x^2)\n",
      "\\end{align*}\n",
      "\n",
      "On the boundaries, this reduces to\n",
      "\n",
      "$$\n",
      "\\left [ D_{2x} u_e \\right ]_{i}^n = 2 \\Delta x^2, \\qquad \\ i = \\{0,N_x\\}\n",
      "$$\n",
      "\n",
      "We now have that, for the ghost points\n",
      "\n",
      "\\begin{align*}\n",
      "    u_{-1}^n &= u_{1}^n - 2 \\Delta x^2 \\\\\n",
      "    u_{N_x + 1}^n &= u_{N_x-1}^n + 2 \\Delta x^2\n",
      "\\end{align*}\n",
      "\n",
      "Which together with the iterative scheme gives us a correction to $f$, which we will call $g$, so that on the boundary our source term is $\\hat f = f + g$. This makes the solution exact for the discrete equation on the boundaries too:\n",
      "\n",
      "\\begin{align*}\n",
      "    g_{-1}^n &= - 4 \\Delta x T(t) Y(y) q \\\\\n",
      "    g_{N_x + 1}^n &= 4 \\Delta x T(t) Y(y) q\n",
      "\\end{align*}\n",
      "\n",
      "This is implemented in the code with a check for vectorized or scalar versions of $x$ and $y$ when calling $f$, and the correction is then added as $\\hat f = f + g$ if we are on the boundary.\n",
      "\n",
      "This is done in the file tests/test_cubic.py."
     ]
    },
    {
     "cell_type": "markdown",
     "metadata": {},
     "source": [
      "---\n",
      "## Standing, damped waves"
     ]
    },
    {
     "cell_type": "code",
     "collapsed": false,
     "input": [
      "from sympy import *\n",
      "init_printing(use_latex=True)\n",
      "A,B,b,w,kx,ky, q = symbols(\"A,B,b,w,k_x,k_y,q\")\n",
      "x,y,t = symbols(\"x,y,t\")\n",
      "u = (A*cos(w*t)+B*sin(w*t))*exp(-b*t)*cos(kx*x)*cos(ky*y)\n",
      "display(u)"
     ],
     "language": "python",
     "metadata": {},
     "outputs": [
      {
       "metadata": {},
       "output_type": "pyout",
       "prompt_number": 57,
       "text": [
        "(A*cos(t*w) + B*sin(t*w))*exp(-b*t)*cos(k_x*x)*cos(k_y*y)"
       ]
      }
     ],
     "prompt_number": 57
    },
    {
     "cell_type": "code",
     "collapsed": false,
     "input": [
      "u_t = diff(u,t).simplify()\n",
      "display(u_t)"
     ],
     "language": "python",
     "metadata": {},
     "outputs": [
      {
       "latex": [
        "$$\\left(- A b \\cos{\\left (t w \\right )} - A w \\sin{\\left (t w \\right )} - B b \\sin{\\left (t w \\right )} + B w \\cos{\\left (t w \\right )}\\right) e^{- b t} \\cos{\\left (k_{x} x \\right )} \\cos{\\left (k_{y} y \\right )}$$"
       ],
       "metadata": {},
       "output_type": "display_data",
       "png": "[encoded data removed]",
       "text": [
        "                                                              -b\u22c5t            \n",
        "(-A\u22c5b\u22c5cos(t\u22c5w) - A\u22c5w\u22c5sin(t\u22c5w) - B\u22c5b\u22c5sin(t\u22c5w) + B\u22c5w\u22c5cos(t\u22c5w))\u22c5\u212f    \u22c5cos(k\u2093\u22c5x)\u22c5c\n",
        "\n",
        "         \n",
        "os(k_y\u22c5y)"
       ]
      }
     ],
     "prompt_number": 2
    },
    {
     "cell_type": "code",
     "collapsed": false,
     "input": [
      "u_tt = diff(u_t,t).simplify()\n",
      "display(u_tt)"
     ],
     "language": "python",
     "metadata": {},
     "outputs": [
      {
       "latex": [
        "$$\\left(A b^{2} \\cos{\\left (t w \\right )} + 2 A b w \\sin{\\left (t w \\right )} - A w^{2} \\cos{\\left (t w \\right )} + B b^{2} \\sin{\\left (t w \\right )} - 2 B b w \\cos{\\left (t w \\right )} - B w^{2} \\sin{\\left (t w \\right )}\\right) e^{- b t} \\cos{\\left (k_{x} x \\right )} \\cos{\\left (k_{y} y \\right )}$$"
       ],
       "metadata": {},
       "output_type": "display_data",
       "png": "[encoded data removed]",
       "text": [
        "\u239b   2                                  2               2                      \n",
        "\u239dA\u22c5b \u22c5cos(t\u22c5w) + 2\u22c5A\u22c5b\u22c5w\u22c5sin(t\u22c5w) - A\u22c5w \u22c5cos(t\u22c5w) + B\u22c5b \u22c5sin(t\u22c5w) - 2\u22c5B\u22c5b\u22c5w\u22c5co\n",
        "\n",
        "            2         \u239e  -b\u22c5t                     \n",
        "s(t\u22c5w) - B\u22c5w \u22c5sin(t\u22c5w)\u23a0\u22c5\u212f    \u22c5cos(k\u2093\u22c5x)\u22c5cos(k_y\u22c5y)"
       ]
      }
     ],
     "prompt_number": 3
    },
    {
     "cell_type": "code",
     "collapsed": false,
     "input": [
      "u_tt.subs(t, 0)"
     ],
     "language": "python",
     "metadata": {},
     "outputs": [
      {
       "latex": [
        "$$\\left(A b^{2} - A w^{2} - 2 B b w\\right) \\cos{\\left (k_{x} x \\right )} \\cos{\\left (k_{y} y \\right )}$$"
       ],
       "metadata": {},
       "output_type": "pyout",
       "png": "[encoded data removed]",
       "prompt_number": 23,
       "text": [
        "\u239b   2      2          \u239e                     \n",
        "\u239dA\u22c5b  - A\u22c5w  - 2\u22c5B\u22c5b\u22c5w\u23a0\u22c5cos(k\u2093\u22c5x)\u22c5cos(k_y\u22c5y)"
       ]
      }
     ],
     "prompt_number": 23
    },
    {
     "cell_type": "code",
     "collapsed": false,
     "input": [
      "u_t.subs(t,0)"
     ],
     "language": "python",
     "metadata": {},
     "outputs": [
      {
       "latex": [
        "$$\\left(- A b + B w\\right) \\cos{\\left (k_{x} x \\right )} \\cos{\\left (k_{y} y \\right )}$$"
       ],
       "metadata": {},
       "output_type": "pyout",
       "png": "[encoded data removed]",
       "prompt_number": 24,
       "text": [
        "(-A\u22c5b + B\u22c5w)\u22c5cos(k\u2093\u22c5x)\u22c5cos(k_y\u22c5y)"
       ]
      }
     ],
     "prompt_number": 24
    },
    {
     "cell_type": "code",
     "collapsed": false,
     "input": [
      "u_xx = diff(u,x,x).simplify()\n",
      "u_yy = diff(u,y,y).simplify()\n",
      "display(u_xx,u_yy)"
     ],
     "language": "python",
     "metadata": {},
     "outputs": [
      {
       "latex": [
        "$$k_{x}^{2} \\left(- A \\cos{\\left (t w \\right )} - B \\sin{\\left (t w \\right )}\\right) e^{- b t} \\cos{\\left (k_{x} x \\right )} \\cos{\\left (k_{y} y \\right )}$$"
       ],
       "metadata": {},
       "output_type": "display_data",
       "png": "[encoded data removed]",
       "text": [
        "  2                             -b\u22c5t                     \n",
        "k\u2093 \u22c5(-A\u22c5cos(t\u22c5w) - B\u22c5sin(t\u22c5w))\u22c5\u212f    \u22c5cos(k\u2093\u22c5x)\u22c5cos(k_y\u22c5y)"
       ]
      },
      {
       "latex": [
        "$$k_{y}^{2} \\left(- A \\cos{\\left (t w \\right )} - B \\sin{\\left (t w \\right )}\\right) e^{- b t} \\cos{\\left (k_{x} x \\right )} \\cos{\\left (k_{y} y \\right )}$$"
       ],
       "metadata": {},
       "output_type": "display_data",
       "png": "[encoded data removed]",
       "text": [
        "   2                             -b\u22c5t                     \n",
        "k_y \u22c5(-A\u22c5cos(t\u22c5w) - B\u22c5sin(t\u22c5w))\u22c5\u212f    \u22c5cos(k\u2093\u22c5x)\u22c5cos(k_y\u22c5y)"
       ]
      }
     ],
     "prompt_number": 4
    },
    {
     "cell_type": "code",
     "collapsed": false,
     "input": [
      "u_xx.subs(t,0)"
     ],
     "language": "python",
     "metadata": {},
     "outputs": [
      {
       "latex": [
        "$$- A k_{x}^{2} \\cos{\\left (k_{x} x \\right )} \\cos{\\left (k_{y} y \\right )}$$"
       ],
       "metadata": {},
       "output_type": "pyout",
       "png": "[encoded data removed]",
       "prompt_number": 25,
       "text": [
        "     2                     \n",
        "-A\u22c5k\u2093 \u22c5cos(k\u2093\u22c5x)\u22c5cos(k_y\u22c5y)"
       ]
      }
     ],
     "prompt_number": 25
    },
    {
     "cell_type": "code",
     "collapsed": false,
     "input": [
      "u_yy.subs(t,0)"
     ],
     "language": "python",
     "metadata": {},
     "outputs": [
      {
       "latex": [
        "$$- A k_{y}^{2} \\cos{\\left (k_{x} x \\right )} \\cos{\\left (k_{y} y \\right )}$$"
       ],
       "metadata": {},
       "output_type": "pyout",
       "png": "[encoded data removed]",
       "prompt_number": 26,
       "text": [
        "      2                     \n",
        "-A\u22c5k_y \u22c5cos(k\u2093\u22c5x)\u22c5cos(k_y\u22c5y)"
       ]
      }
     ],
     "prompt_number": 26
    },
    {
     "cell_type": "code",
     "collapsed": false,
     "input": [
      "I = u.subs(t,0)\n",
      "V = u_t.subs(t,0)\n",
      "display(I,V)\n",
      "\n",
      "B_tmp = solve(V,B)\n",
      "display(\"B = \", B_tmp)\n",
      "ccode(V)"
     ],
     "language": "python",
     "metadata": {},
     "outputs": [
      {
       "latex": [
        "$$A \\cos{\\left (k_{x} x \\right )} \\cos{\\left (k_{y} y \\right )}$$"
       ],
       "metadata": {},
       "output_type": "display_data",
       "png": "[encoded data removed]",
       "text": [
        "A\u22c5cos(k\u2093\u22c5x)\u22c5cos(k_y\u22c5y)"
       ]
      },
      {
       "latex": [
        "$$\\left(- A b + B w\\right) \\cos{\\left (k_{x} x \\right )} \\cos{\\left (k_{y} y \\right )}$$"
       ],
       "metadata": {},
       "output_type": "display_data",
       "png": "[encoded data removed]",
       "text": [
        "(-A\u22c5b + B\u22c5w)\u22c5cos(k\u2093\u22c5x)\u22c5cos(k_y\u22c5y)"
       ]
      },
      {
       "metadata": {},
       "output_type": "display_data",
       "text": [
        "B = "
       ]
      },
      {
       "latex": [
        "$$\\begin{bmatrix}\\frac{A b}{w}\\end{bmatrix}$$"
       ],
       "metadata": {},
       "output_type": "display_data",
       "text": [
        "\u23a1A\u22c5b\u23a4\n",
        "\u23a2\u2500\u2500\u2500\u23a5\n",
        "\u23a3 w \u23a6"
       ]
      },
      {
       "metadata": {},
       "output_type": "pyout",
       "prompt_number": 59,
       "text": [
        "(-A*b + B*w)*cos(k_x*x)*cos(k_y*y)"
       ]
      }
     ],
     "prompt_number": 59
    },
    {
     "cell_type": "code",
     "collapsed": false,
     "input": [
      "eq  = u_tt + b*u_t - q*u_xx - q*u_yy\n",
      "eq_t0 = eq.subs(B,B_tmp[0]).subs(t,0).simplify()\n",
      "display(eq, eq_t0)"
     ],
     "language": "python",
     "metadata": {},
     "outputs": [
      {
       "latex": [
        "$$b \\left(- A b \\cos{\\left (t w \\right )} - A w \\sin{\\left (t w \\right )} - B b \\sin{\\left (t w \\right )} + B w \\cos{\\left (t w \\right )}\\right) e^{- b t} \\cos{\\left (k_{x} x \\right )} \\cos{\\left (k_{y} y \\right )} - k_{x}^{2} q \\left(- A \\cos{\\left (t w \\right )} - B \\sin{\\left (t w \\right )}\\right) e^{- b t} \\cos{\\left (k_{x} x \\right )} \\cos{\\left (k_{y} y \\right )} - k_{y}^{2} q \\left(- A \\cos{\\left (t w \\right )} - B \\sin{\\left (t w \\right )}\\right) e^{- b t} \\cos{\\left (k_{x} x \\right )} \\cos{\\left (k_{y} y \\right )} + \\left(A b^{2} \\cos{\\left (t w \\right )} + 2 A b w \\sin{\\left (t w \\right )} - A w^{2} \\cos{\\left (t w \\right )} + B b^{2} \\sin{\\left (t w \\right )} - 2 B b w \\cos{\\left (t w \\right )} - B w^{2} \\sin{\\left (t w \\right )}\\right) e^{- b t} \\cos{\\left (k_{x} x \\right )} \\cos{\\left (k_{y} y \\right )}$$"
       ],
       "metadata": {},
       "output_type": "display_data",
       "png": "[encoded data removed]",
       "text": [
        "                                                                -b\u22c5t          \n",
        "b\u22c5(-A\u22c5b\u22c5cos(t\u22c5w) - A\u22c5w\u22c5sin(t\u22c5w) - B\u22c5b\u22c5sin(t\u22c5w) + B\u22c5w\u22c5cos(t\u22c5w))\u22c5\u212f    \u22c5cos(k\u2093\u22c5x)\n",
        "\n",
        "                2                               -b\u22c5t                          \n",
        "\u22c5cos(k_y\u22c5y) - k\u2093 \u22c5q\u22c5(-A\u22c5cos(t\u22c5w) - B\u22c5sin(t\u22c5w))\u22c5\u212f    \u22c5cos(k\u2093\u22c5x)\u22c5cos(k_y\u22c5y) - k_\n",
        "\n",
        " 2                               -b\u22c5t                        \u239b   2            \n",
        "y \u22c5q\u22c5(-A\u22c5cos(t\u22c5w) - B\u22c5sin(t\u22c5w))\u22c5\u212f    \u22c5cos(k\u2093\u22c5x)\u22c5cos(k_y\u22c5y) + \u239dA\u22c5b \u22c5cos(t\u22c5w) + \n",
        "\n",
        "                      2               2                                  2    \n",
        "2\u22c5A\u22c5b\u22c5w\u22c5sin(t\u22c5w) - A\u22c5w \u22c5cos(t\u22c5w) + B\u22c5b \u22c5sin(t\u22c5w) - 2\u22c5B\u22c5b\u22c5w\u22c5cos(t\u22c5w) - B\u22c5w \u22c5sin\n",
        "\n",
        "     \u239e  -b\u22c5t                     \n",
        "(t\u22c5w)\u23a0\u22c5\u212f    \u22c5cos(k\u2093\u22c5x)\u22c5cos(k_y\u22c5y)"
       ]
      },
      {
       "latex": [
        "$$A \\left(- b^{2} + k_{x}^{2} q + k_{y}^{2} q - w^{2}\\right) \\cos{\\left (k_{x} x \\right )} \\cos{\\left (k_{y} y \\right )}$$"
       ],
       "metadata": {},
       "output_type": "display_data",
       "png": "[encoded data removed]",
       "text": [
        "  \u239b   2     2        2      2\u239e                     \n",
        "A\u22c5\u239d- b  + k\u2093 \u22c5q + k_y \u22c5q - w \u23a0\u22c5cos(k\u2093\u22c5x)\u22c5cos(k_y\u22c5y)"
       ]
      }
     ],
     "prompt_number": 52
    },
    {
     "cell_type": "code",
     "collapsed": false,
     "input": [
      "w_tmp = solve(eq_t0,w)\n",
      "w_tmp"
     ],
     "language": "python",
     "metadata": {},
     "outputs": [
      {
       "latex": [
        "$$\\begin{bmatrix}- \\sqrt{- b^{2} + k_{x}^{2} q + k_{y}^{2} q}, & \\sqrt{- b^{2} + k_{x}^{2} q + k_{y}^{2} q}\\end{bmatrix}$$"
       ],
       "metadata": {},
       "output_type": "pyout",
       "prompt_number": 53,
       "text": [
        "\u23a1    _______________________     _______________________\u23a4\n",
        "\u23a2   \u2571    2     2        2       \u2571    2     2        2   \u23a5\n",
        "\u23a3-\u2572\u2571  - b  + k\u2093 \u22c5q + k_y \u22c5q , \u2572\u2571  - b  + k\u2093 \u22c5q + k_y \u22c5q \u23a6"
       ]
      }
     ],
     "prompt_number": 53
    }
   ],
   "metadata": {}
  }
 ]
}