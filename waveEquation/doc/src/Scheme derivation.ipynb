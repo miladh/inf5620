{
 "metadata": {
  "name": ""
 },
 "nbformat": 3,
 "nbformat_minor": 0,
 "worksheets": [
  {
   "cells": [
    {
     "cell_type": "code",
     "collapsed": false,
     "input": [
      "from sympy import *\n",
      "from sympy.abc import *\n",
      "init_printing(use_latex=True)"
     ],
     "language": "python",
     "metadata": {},
     "outputs": [],
     "prompt_number": 35
    },
    {
     "cell_type": "code",
     "collapsed": false,
     "input": [
      "A = rho / t**2  * (a - 2*b + c)\n",
      "A"
     ],
     "language": "python",
     "metadata": {},
     "outputs": [
      {
       "latex": [
        "$$\\frac{\\rho \\left(a - 2 b + c\\right)}{t^{2}}$$"
       ],
       "metadata": {},
       "output_type": "pyout",
       "png": "[encoded data removed]",
       "prompt_number": 36,
       "text": [
        "\u03c1\u22c5(a - 2\u22c5b + c)\n",
        "\u2500\u2500\u2500\u2500\u2500\u2500\u2500\u2500\u2500\u2500\u2500\u2500\u2500\u2500\u2500\n",
        "        2      \n",
        "       t       "
       ]
      }
     ],
     "prompt_number": 36
    },
    {
     "cell_type": "code",
     "collapsed": false,
     "input": [
      "B = beta / (2*t) * (a - c)\n",
      "B"
     ],
     "language": "python",
     "metadata": {},
     "outputs": [
      {
       "latex": [
        "$$\\frac{\\beta \\left(a - c\\right)}{2 t}$$"
       ],
       "metadata": {},
       "output_type": "pyout",
       "png": "[encoded data removed]",
       "prompt_number": 58,
       "text": [
        "\u03b2\u22c5(a - c)\n",
        "\u2500\u2500\u2500\u2500\u2500\u2500\u2500\u2500\u2500\n",
        "   2\u22c5t   "
       ]
      }
     ],
     "prompt_number": 58
    },
    {
     "cell_type": "code",
     "collapsed": false,
     "input": [
      "C = 1 / x**2 * (Rational(1,2) *(q + r) * (d - b) - Rational(1,2) *(p + q) * (b - e))\n",
      "C"
     ],
     "language": "python",
     "metadata": {},
     "outputs": [
      {
       "latex": [
        "$$\\frac{\\left(- b + d\\right) \\left(\\frac{1}{2} q + \\frac{1}{2} r\\right) - \\left(b - e\\right) \\left(\\frac{1}{2} p + \\frac{1}{2} q\\right)}{x^{2}}$$"
       ],
       "metadata": {},
       "output_type": "pyout",
       "png": "[encoded data removed]",
       "prompt_number": 59,
       "text": [
        "         \u239bq   r\u239e           \u239bp   q\u239e\n",
        "(-b + d)\u22c5\u239c\u2500 + \u2500\u239f - (b - e)\u22c5\u239c\u2500 + \u2500\u239f\n",
        "         \u239d2   2\u23a0           \u239d2   2\u23a0\n",
        "\u2500\u2500\u2500\u2500\u2500\u2500\u2500\u2500\u2500\u2500\u2500\u2500\u2500\u2500\u2500\u2500\u2500\u2500\u2500\u2500\u2500\u2500\u2500\u2500\u2500\u2500\u2500\u2500\u2500\u2500\u2500\u2500\u2500\u2500\n",
        "                 2                \n",
        "                x                 "
       ]
      }
     ],
     "prompt_number": 59
    },
    {
     "cell_type": "code",
     "collapsed": false,
     "input": [
      "D = 1 / y**2 * (Rational(1,2) *(q + r) * (f - b) - Rational(1,2) *(p + q) * (b - g))\n",
      "D"
     ],
     "language": "python",
     "metadata": {},
     "outputs": [
      {
       "latex": [
        "$$\\frac{\\left(- b + f\\right) \\left(\\frac{1}{2} q + \\frac{1}{2} r\\right) - \\left(b - g\\right) \\left(\\frac{1}{2} p + \\frac{1}{2} q\\right)}{y^{2}}$$"
       ],
       "metadata": {},
       "output_type": "pyout",
       "png": "[encoded data removed]",
       "prompt_number": 60,
       "text": [
        "         \u239bq   r\u239e           \u239bp   q\u239e\n",
        "(-b + f)\u22c5\u239c\u2500 + \u2500\u239f - (b - g)\u22c5\u239c\u2500 + \u2500\u239f\n",
        "         \u239d2   2\u23a0           \u239d2   2\u23a0\n",
        "\u2500\u2500\u2500\u2500\u2500\u2500\u2500\u2500\u2500\u2500\u2500\u2500\u2500\u2500\u2500\u2500\u2500\u2500\u2500\u2500\u2500\u2500\u2500\u2500\u2500\u2500\u2500\u2500\u2500\u2500\u2500\u2500\u2500\u2500\n",
        "                 2                \n",
        "                y                 "
       ]
      }
     ],
     "prompt_number": 60
    },
    {
     "cell_type": "code",
     "collapsed": false,
     "input": [
      "E = gamma\n",
      "E"
     ],
     "language": "python",
     "metadata": {},
     "outputs": [
      {
       "latex": [
        "$$\\gamma$$"
       ],
       "metadata": {},
       "output_type": "pyout",
       "png": "[encoded data removed]",
       "prompt_number": 61,
       "text": [
        "\u03b3"
       ]
      }
     ],
     "prompt_number": 61
    },
    {
     "cell_type": "code",
     "collapsed": false,
     "input": [
      "solution = solve(A + B - C - D - E, a)\n",
      "solution"
     ],
     "language": "python",
     "metadata": {},
     "outputs": [
      {
       "latex": [
        "$$\\begin{bmatrix}\\frac{- b p t^{2} x^{2} - b p t^{2} y^{2} - 2 b q t^{2} x^{2} - 2 b q t^{2} y^{2} - b r t^{2} x^{2} - b r t^{2} y^{2} + 4 b \\rho x^{2} y^{2} + \\beta c t x^{2} y^{2} - 2 c \\rho x^{2} y^{2} + d q t^{2} y^{2} + d r t^{2} y^{2} + e p t^{2} y^{2} + e q t^{2} y^{2} + f q t^{2} x^{2} + f r t^{2} x^{2} + g p t^{2} x^{2} + g q t^{2} x^{2} + 2 \\gamma t^{2} x^{2} y^{2}}{x^{2} y^{2} \\left(\\beta t + 2 \\rho\\right)}\\end{bmatrix}$$"
       ],
       "metadata": {},
       "output_type": "pyout",
       "prompt_number": 62,
       "text": [
        "\u23a1       2  2        2  2          2  2          2  2        2  2        2  2  \n",
        "\u23a2- b\u22c5p\u22c5t \u22c5x  - b\u22c5p\u22c5t \u22c5y  - 2\u22c5b\u22c5q\u22c5t \u22c5x  - 2\u22c5b\u22c5q\u22c5t \u22c5y  - b\u22c5r\u22c5t \u22c5x  - b\u22c5r\u22c5t \u22c5y  +\n",
        "\u23a2\u2500\u2500\u2500\u2500\u2500\u2500\u2500\u2500\u2500\u2500\u2500\u2500\u2500\u2500\u2500\u2500\u2500\u2500\u2500\u2500\u2500\u2500\u2500\u2500\u2500\u2500\u2500\u2500\u2500\u2500\u2500\u2500\u2500\u2500\u2500\u2500\u2500\u2500\u2500\u2500\u2500\u2500\u2500\u2500\u2500\u2500\u2500\u2500\u2500\u2500\u2500\u2500\u2500\u2500\u2500\u2500\u2500\u2500\u2500\u2500\u2500\u2500\u2500\u2500\u2500\u2500\u2500\u2500\u2500\u2500\u2500\u2500\u2500\u2500\u2500\u2500\u2500\n",
        "\u23a2                                                                             \n",
        "\u23a3                                                                             \n",
        "\n",
        "        2  2          2  2          2  2        2  2        2  2        2  2  \n",
        " 4\u22c5b\u22c5\u03c1\u22c5x \u22c5y  + \u03b2\u22c5c\u22c5t\u22c5x \u22c5y  - 2\u22c5c\u22c5\u03c1\u22c5x \u22c5y  + d\u22c5q\u22c5t \u22c5y  + d\u22c5r\u22c5t \u22c5y  + e\u22c5p\u22c5t \u22c5y  +\n",
        "\u2500\u2500\u2500\u2500\u2500\u2500\u2500\u2500\u2500\u2500\u2500\u2500\u2500\u2500\u2500\u2500\u2500\u2500\u2500\u2500\u2500\u2500\u2500\u2500\u2500\u2500\u2500\u2500\u2500\u2500\u2500\u2500\u2500\u2500\u2500\u2500\u2500\u2500\u2500\u2500\u2500\u2500\u2500\u2500\u2500\u2500\u2500\u2500\u2500\u2500\u2500\u2500\u2500\u2500\u2500\u2500\u2500\u2500\u2500\u2500\u2500\u2500\u2500\u2500\u2500\u2500\u2500\u2500\u2500\u2500\u2500\u2500\u2500\u2500\u2500\u2500\u2500\u2500\n",
        "                             2  2                                             \n",
        "                            x \u22c5y \u22c5(\u03b2\u22c5t + 2\u22c5\u03c1)                                 \n",
        "\n",
        "      2  2        2  2        2  2        2  2        2  2        2  2  2\u23a4\n",
        " e\u22c5q\u22c5t \u22c5y  + f\u22c5q\u22c5t \u22c5x  + f\u22c5r\u22c5t \u22c5x  + g\u22c5p\u22c5t \u22c5x  + g\u22c5q\u22c5t \u22c5x  + 2\u22c5\u03b3\u22c5t \u22c5x \u22c5y \u23a5\n",
        "\u2500\u2500\u2500\u2500\u2500\u2500\u2500\u2500\u2500\u2500\u2500\u2500\u2500\u2500\u2500\u2500\u2500\u2500\u2500\u2500\u2500\u2500\u2500\u2500\u2500\u2500\u2500\u2500\u2500\u2500\u2500\u2500\u2500\u2500\u2500\u2500\u2500\u2500\u2500\u2500\u2500\u2500\u2500\u2500\u2500\u2500\u2500\u2500\u2500\u2500\u2500\u2500\u2500\u2500\u2500\u2500\u2500\u2500\u2500\u2500\u2500\u2500\u2500\u2500\u2500\u2500\u2500\u2500\u2500\u2500\u2500\u2500\u2500\u23a5\n",
        "                                                                         \u23a5\n",
        "                                                                         \u23a6"
       ]
      }
     ],
     "prompt_number": 62
    },
    {
     "cell_type": "code",
     "collapsed": false,
     "input": [
      "solution2 = solution[0]\n",
      "solution2"
     ],
     "language": "python",
     "metadata": {},
     "outputs": [
      {
       "latex": [
        "$$\\frac{- b p t^{2} x^{2} - b p t^{2} y^{2} - 2 b q t^{2} x^{2} - 2 b q t^{2} y^{2} - b r t^{2} x^{2} - b r t^{2} y^{2} + 4 b \\rho x^{2} y^{2} + \\beta c t x^{2} y^{2} - 2 c \\rho x^{2} y^{2} + d q t^{2} y^{2} + d r t^{2} y^{2} + e p t^{2} y^{2} + e q t^{2} y^{2} + f q t^{2} x^{2} + f r t^{2} x^{2} + g p t^{2} x^{2} + g q t^{2} x^{2} + 2 \\gamma t^{2} x^{2} y^{2}}{x^{2} y^{2} \\left(\\beta t + 2 \\rho\\right)}$$"
       ],
       "metadata": {},
       "output_type": "pyout",
       "png": "[encoded data removed]",
       "prompt_number": 63,
       "text": [
        "       2  2        2  2          2  2          2  2        2  2        2  2   \n",
        "- b\u22c5p\u22c5t \u22c5x  - b\u22c5p\u22c5t \u22c5y  - 2\u22c5b\u22c5q\u22c5t \u22c5x  - 2\u22c5b\u22c5q\u22c5t \u22c5y  - b\u22c5r\u22c5t \u22c5x  - b\u22c5r\u22c5t \u22c5y  + \n",
        "\u2500\u2500\u2500\u2500\u2500\u2500\u2500\u2500\u2500\u2500\u2500\u2500\u2500\u2500\u2500\u2500\u2500\u2500\u2500\u2500\u2500\u2500\u2500\u2500\u2500\u2500\u2500\u2500\u2500\u2500\u2500\u2500\u2500\u2500\u2500\u2500\u2500\u2500\u2500\u2500\u2500\u2500\u2500\u2500\u2500\u2500\u2500\u2500\u2500\u2500\u2500\u2500\u2500\u2500\u2500\u2500\u2500\u2500\u2500\u2500\u2500\u2500\u2500\u2500\u2500\u2500\u2500\u2500\u2500\u2500\u2500\u2500\u2500\u2500\u2500\u2500\u2500\u2500\n",
        "                                                                              \n",
        "                                                                              \n",
        "\n",
        "       2  2          2  2          2  2        2  2        2  2        2  2   \n",
        "4\u22c5b\u22c5\u03c1\u22c5x \u22c5y  + \u03b2\u22c5c\u22c5t\u22c5x \u22c5y  - 2\u22c5c\u22c5\u03c1\u22c5x \u22c5y  + d\u22c5q\u22c5t \u22c5y  + d\u22c5r\u22c5t \u22c5y  + e\u22c5p\u22c5t \u22c5y  + \n",
        "\u2500\u2500\u2500\u2500\u2500\u2500\u2500\u2500\u2500\u2500\u2500\u2500\u2500\u2500\u2500\u2500\u2500\u2500\u2500\u2500\u2500\u2500\u2500\u2500\u2500\u2500\u2500\u2500\u2500\u2500\u2500\u2500\u2500\u2500\u2500\u2500\u2500\u2500\u2500\u2500\u2500\u2500\u2500\u2500\u2500\u2500\u2500\u2500\u2500\u2500\u2500\u2500\u2500\u2500\u2500\u2500\u2500\u2500\u2500\u2500\u2500\u2500\u2500\u2500\u2500\u2500\u2500\u2500\u2500\u2500\u2500\u2500\u2500\u2500\u2500\u2500\u2500\u2500\n",
        "                            2  2                                              \n",
        "                           x \u22c5y \u22c5(\u03b2\u22c5t + 2\u22c5\u03c1)                                  \n",
        "\n",
        "     2  2        2  2        2  2        2  2        2  2        2  2  2\n",
        "e\u22c5q\u22c5t \u22c5y  + f\u22c5q\u22c5t \u22c5x  + f\u22c5r\u22c5t \u22c5x  + g\u22c5p\u22c5t \u22c5x  + g\u22c5q\u22c5t \u22c5x  + 2\u22c5\u03b3\u22c5t \u22c5x \u22c5y \n",
        "\u2500\u2500\u2500\u2500\u2500\u2500\u2500\u2500\u2500\u2500\u2500\u2500\u2500\u2500\u2500\u2500\u2500\u2500\u2500\u2500\u2500\u2500\u2500\u2500\u2500\u2500\u2500\u2500\u2500\u2500\u2500\u2500\u2500\u2500\u2500\u2500\u2500\u2500\u2500\u2500\u2500\u2500\u2500\u2500\u2500\u2500\u2500\u2500\u2500\u2500\u2500\u2500\u2500\u2500\u2500\u2500\u2500\u2500\u2500\u2500\u2500\u2500\u2500\u2500\u2500\u2500\u2500\u2500\u2500\u2500\u2500\u2500\n",
        "                                                                        \n",
        "                                                                        "
       ]
      }
     ],
     "prompt_number": 63
    },
    {
     "cell_type": "code",
     "collapsed": false,
     "input": [
      "solution2.simplify().expand().simplify().expand().collect(b)"
     ],
     "language": "python",
     "metadata": {},
     "outputs": [
      {
       "latex": [
        "$$b \\left(- \\frac{p t^{2} x^{2}}{\\beta t x^{2} y^{2} + 2 \\rho x^{2} y^{2}} - \\frac{p t^{2} y^{2}}{\\beta t x^{2} y^{2} + 2 \\rho x^{2} y^{2}} - 2 \\frac{q t^{2} x^{2}}{\\beta t x^{2} y^{2} + 2 \\rho x^{2} y^{2}} - 2 \\frac{q t^{2} y^{2}}{\\beta t x^{2} y^{2} + 2 \\rho x^{2} y^{2}} - \\frac{r t^{2} x^{2}}{\\beta t x^{2} y^{2} + 2 \\rho x^{2} y^{2}} - \\frac{r t^{2} y^{2}}{\\beta t x^{2} y^{2} + 2 \\rho x^{2} y^{2}} + 4 \\frac{\\rho x^{2} y^{2}}{\\beta t x^{2} y^{2} + 2 \\rho x^{2} y^{2}}\\right) + \\frac{\\beta c t x^{2} y^{2}}{\\beta t x^{2} y^{2} + 2 \\rho x^{2} y^{2}} - 2 \\frac{c \\rho x^{2} y^{2}}{\\beta t x^{2} y^{2} + 2 \\rho x^{2} y^{2}} + \\frac{d q t^{2} y^{2}}{\\beta t x^{2} y^{2} + 2 \\rho x^{2} y^{2}} + \\frac{d r t^{2} y^{2}}{\\beta t x^{2} y^{2} + 2 \\rho x^{2} y^{2}} + \\frac{e p t^{2} y^{2}}{\\beta t x^{2} y^{2} + 2 \\rho x^{2} y^{2}} + \\frac{e q t^{2} y^{2}}{\\beta t x^{2} y^{2} + 2 \\rho x^{2} y^{2}} + \\frac{f q t^{2} x^{2}}{\\beta t x^{2} y^{2} + 2 \\rho x^{2} y^{2}} + \\frac{f r t^{2} x^{2}}{\\beta t x^{2} y^{2} + 2 \\rho x^{2} y^{2}} + \\frac{g p t^{2} x^{2}}{\\beta t x^{2} y^{2} + 2 \\rho x^{2} y^{2}} + \\frac{g q t^{2} x^{2}}{\\beta t x^{2} y^{2} + 2 \\rho x^{2} y^{2}} + 2 \\frac{\\gamma t^{2} x^{2} y^{2}}{\\beta t x^{2} y^{2} + 2 \\rho x^{2} y^{2}}$$"
       ],
       "metadata": {},
       "output_type": "pyout",
       "png": "[encoded data removed]",
       "prompt_number": 64,
       "text": [
        "  \u239b            2  2                    2  2                     2  2          \n",
        "  \u239c         p\u22c5t \u22c5x                  p\u22c5t \u22c5y                 2\u22c5q\u22c5t \u22c5x           \n",
        "b\u22c5\u239c- \u2500\u2500\u2500\u2500\u2500\u2500\u2500\u2500\u2500\u2500\u2500\u2500\u2500\u2500\u2500\u2500\u2500\u2500\u2500\u2500\u2500 - \u2500\u2500\u2500\u2500\u2500\u2500\u2500\u2500\u2500\u2500\u2500\u2500\u2500\u2500\u2500\u2500\u2500\u2500\u2500\u2500\u2500 - \u2500\u2500\u2500\u2500\u2500\u2500\u2500\u2500\u2500\u2500\u2500\u2500\u2500\u2500\u2500\u2500\u2500\u2500\u2500\u2500\u2500 - \u2500\n",
        "  \u239c       2  2        2  2        2  2        2  2        2  2        2  2    \n",
        "  \u239d  \u03b2\u22c5t\u22c5x \u22c5y  + 2\u22c5\u03c1\u22c5x \u22c5y    \u03b2\u22c5t\u22c5x \u22c5y  + 2\u22c5\u03c1\u22c5x \u22c5y    \u03b2\u22c5t\u22c5x \u22c5y  + 2\u22c5\u03c1\u22c5x \u22c5y    \u03b2\n",
        "\n",
        "          2  2                   2  2                    2  2                 \n",
        "     2\u22c5q\u22c5t \u22c5y                 r\u22c5t \u22c5x                  r\u22c5t \u22c5y                 4\n",
        "\u2500\u2500\u2500\u2500\u2500\u2500\u2500\u2500\u2500\u2500\u2500\u2500\u2500\u2500\u2500\u2500\u2500\u2500\u2500\u2500 - \u2500\u2500\u2500\u2500\u2500\u2500\u2500\u2500\u2500\u2500\u2500\u2500\u2500\u2500\u2500\u2500\u2500\u2500\u2500\u2500\u2500 - \u2500\u2500\u2500\u2500\u2500\u2500\u2500\u2500\u2500\u2500\u2500\u2500\u2500\u2500\u2500\u2500\u2500\u2500\u2500\u2500\u2500 + \u2500\u2500\u2500\u2500\u2500\u2500\u2500\n",
        "    2  2        2  2        2  2        2  2        2  2        2  2        2 \n",
        "\u22c5t\u22c5x \u22c5y  + 2\u22c5\u03c1\u22c5x \u22c5y    \u03b2\u22c5t\u22c5x \u22c5y  + 2\u22c5\u03c1\u22c5x \u22c5y    \u03b2\u22c5t\u22c5x \u22c5y  + 2\u22c5\u03c1\u22c5x \u22c5y    \u03b2\u22c5t\u22c5x \u22c5\n",
        "\n",
        "    2  2      \u239e               2  2                    2  2                   2\n",
        "\u22c5\u03c1\u22c5x \u22c5y       \u239f        \u03b2\u22c5c\u22c5t\u22c5x \u22c5y              2\u22c5c\u22c5\u03c1\u22c5x \u22c5y               d\u22c5q\u22c5t \n",
        "\u2500\u2500\u2500\u2500\u2500\u2500\u2500\u2500\u2500\u2500\u2500\u2500\u2500\u2500\u239f + \u2500\u2500\u2500\u2500\u2500\u2500\u2500\u2500\u2500\u2500\u2500\u2500\u2500\u2500\u2500\u2500\u2500\u2500\u2500\u2500\u2500 - \u2500\u2500\u2500\u2500\u2500\u2500\u2500\u2500\u2500\u2500\u2500\u2500\u2500\u2500\u2500\u2500\u2500\u2500\u2500\u2500\u2500 + \u2500\u2500\u2500\u2500\u2500\u2500\u2500\u2500\u2500\u2500\u2500\u2500\n",
        " 2        2  2\u239f        2  2        2  2        2  2        2  2        2  2   \n",
        "y  + 2\u22c5\u03c1\u22c5x \u22c5y \u23a0   \u03b2\u22c5t\u22c5x \u22c5y  + 2\u22c5\u03c1\u22c5x \u22c5y    \u03b2\u22c5t\u22c5x \u22c5y  + 2\u22c5\u03c1\u22c5x \u22c5y    \u03b2\u22c5t\u22c5x \u22c5y  + \n",
        "\n",
        "  2                    2  2                    2  2                    2  2   \n",
        "\u22c5y                d\u22c5r\u22c5t \u22c5y                e\u22c5p\u22c5t \u22c5y                e\u22c5q\u22c5t \u22c5y    \n",
        "\u2500\u2500\u2500\u2500\u2500\u2500\u2500\u2500\u2500 + \u2500\u2500\u2500\u2500\u2500\u2500\u2500\u2500\u2500\u2500\u2500\u2500\u2500\u2500\u2500\u2500\u2500\u2500\u2500\u2500\u2500 + \u2500\u2500\u2500\u2500\u2500\u2500\u2500\u2500\u2500\u2500\u2500\u2500\u2500\u2500\u2500\u2500\u2500\u2500\u2500\u2500\u2500 + \u2500\u2500\u2500\u2500\u2500\u2500\u2500\u2500\u2500\u2500\u2500\u2500\u2500\u2500\u2500\u2500\u2500\u2500\n",
        "     2  2        2  2        2  2        2  2        2  2        2  2        2\n",
        "2\u22c5\u03c1\u22c5x \u22c5y    \u03b2\u22c5t\u22c5x \u22c5y  + 2\u22c5\u03c1\u22c5x \u22c5y    \u03b2\u22c5t\u22c5x \u22c5y  + 2\u22c5\u03c1\u22c5x \u22c5y    \u03b2\u22c5t\u22c5x \u22c5y  + 2\u22c5\u03c1\u22c5x \n",
        "\n",
        "                 2  2                    2  2                    2  2         \n",
        "            f\u22c5q\u22c5t \u22c5x                f\u22c5r\u22c5t \u22c5x                g\u22c5p\u22c5t \u22c5x          \n",
        "\u2500\u2500\u2500 + \u2500\u2500\u2500\u2500\u2500\u2500\u2500\u2500\u2500\u2500\u2500\u2500\u2500\u2500\u2500\u2500\u2500\u2500\u2500\u2500\u2500 + \u2500\u2500\u2500\u2500\u2500\u2500\u2500\u2500\u2500\u2500\u2500\u2500\u2500\u2500\u2500\u2500\u2500\u2500\u2500\u2500\u2500 + \u2500\u2500\u2500\u2500\u2500\u2500\u2500\u2500\u2500\u2500\u2500\u2500\u2500\u2500\u2500\u2500\u2500\u2500\u2500\u2500\u2500 + \n",
        "  2        2  2        2  2        2  2        2  2        2  2        2  2   \n",
        "\u22c5y    \u03b2\u22c5t\u22c5x \u22c5y  + 2\u22c5\u03c1\u22c5x \u22c5y    \u03b2\u22c5t\u22c5x \u22c5y  + 2\u22c5\u03c1\u22c5x \u22c5y    \u03b2\u22c5t\u22c5x \u22c5y  + 2\u22c5\u03c1\u22c5x \u22c5y    \n",
        "\n",
        "           2  2                   2  2  2    \n",
        "      g\u22c5q\u22c5t \u22c5x               2\u22c5\u03b3\u22c5t \u22c5x \u22c5y     \n",
        "\u2500\u2500\u2500\u2500\u2500\u2500\u2500\u2500\u2500\u2500\u2500\u2500\u2500\u2500\u2500\u2500\u2500\u2500\u2500\u2500\u2500 + \u2500\u2500\u2500\u2500\u2500\u2500\u2500\u2500\u2500\u2500\u2500\u2500\u2500\u2500\u2500\u2500\u2500\u2500\u2500\u2500\u2500\n",
        "     2  2        2  2        2  2        2  2\n",
        "\u03b2\u22c5t\u22c5x \u22c5y  + 2\u22c5\u03c1\u22c5x \u22c5y    \u03b2\u22c5t\u22c5x \u22c5y  + 2\u22c5\u03c1\u22c5x \u22c5y "
       ]
      }
     ],
     "prompt_number": 64
    },
    {
     "cell_type": "code",
     "collapsed": false,
     "input": [
      "milads = ( 2*b + c * (beta * t / (2*rho) - 1) + t**2 / rho * gamma \\\n",
      "          + 1 / rho * t**2/x**2 * (Rational(1,2) * (q + r)*(d - b) - Rational(1,2) * (p + q)*(b - e)) \\\n",
      "          + 1 / rho * t**2/y**2 * (Rational(1,2) * (q + r)*(f - b) - Rational(1,2) * (p + q)*(b - g))) \\\n",
      "          * (1 / (1 + beta * t / (2 * rho)))\n",
      "milads"
     ],
     "language": "python",
     "metadata": {},
     "outputs": [
      {
       "latex": [
        "$$\\frac{2 b + c \\left(\\frac{\\beta t}{2 \\rho} -1\\right) + \\frac{\\gamma t^{2}}{\\rho} + \\frac{t^{2} \\left(\\left(- b + f\\right) \\left(\\frac{1}{2} q + \\frac{1}{2} r\\right) - \\left(b - g\\right) \\left(\\frac{1}{2} p + \\frac{1}{2} q\\right)\\right)}{\\rho y^{2}} + \\frac{t^{2} \\left(\\left(- b + d\\right) \\left(\\frac{1}{2} q + \\frac{1}{2} r\\right) - \\left(b - e\\right) \\left(\\frac{1}{2} p + \\frac{1}{2} q\\right)\\right)}{\\rho x^{2}}}{\\frac{\\beta t}{2 \\rho} + 1}$$"
       ],
       "metadata": {},
       "output_type": "pyout",
       "png": "[encoded data removed]",
       "prompt_number": 65,
       "text": [
        "                            2 \u239b         \u239bq   r\u239e           \u239bp   q\u239e\u239e    2 \u239b     \n",
        "                       2   t \u22c5\u239c(-b + f)\u22c5\u239c\u2500 + \u2500\u239f - (b - g)\u22c5\u239c\u2500 + \u2500\u239f\u239f   t \u22c5\u239c(-b +\n",
        "        \u239b\u03b2\u22c5t    \u239e   \u03b3\u22c5t       \u239d         \u239d2   2\u23a0           \u239d2   2\u23a0\u23a0      \u239d     \n",
        "2\u22c5b + c\u22c5\u239c\u2500\u2500\u2500 - 1\u239f + \u2500\u2500\u2500\u2500 + \u2500\u2500\u2500\u2500\u2500\u2500\u2500\u2500\u2500\u2500\u2500\u2500\u2500\u2500\u2500\u2500\u2500\u2500\u2500\u2500\u2500\u2500\u2500\u2500\u2500\u2500\u2500\u2500\u2500\u2500\u2500\u2500\u2500\u2500\u2500\u2500\u2500\u2500\u2500 + \u2500\u2500\u2500\u2500\u2500\u2500\u2500\u2500\u2500\n",
        "        \u239d2\u22c5\u03c1    \u23a0    \u03c1                          2                             \n",
        "                                             \u03c1\u22c5y                              \n",
        "\u2500\u2500\u2500\u2500\u2500\u2500\u2500\u2500\u2500\u2500\u2500\u2500\u2500\u2500\u2500\u2500\u2500\u2500\u2500\u2500\u2500\u2500\u2500\u2500\u2500\u2500\u2500\u2500\u2500\u2500\u2500\u2500\u2500\u2500\u2500\u2500\u2500\u2500\u2500\u2500\u2500\u2500\u2500\u2500\u2500\u2500\u2500\u2500\u2500\u2500\u2500\u2500\u2500\u2500\u2500\u2500\u2500\u2500\u2500\u2500\u2500\u2500\u2500\u2500\u2500\u2500\u2500\u2500\u2500\u2500\u2500\u2500\u2500\u2500\u2500\u2500\u2500\u2500\n",
        "                                                  \u03b2\u22c5t                         \n",
        "                                                  \u2500\u2500\u2500 + 1                     \n",
        "                                                  2\u22c5\u03c1                         \n",
        "\n",
        "    \u239bq   r\u239e           \u239bp   q\u239e\u239e\n",
        " d)\u22c5\u239c\u2500 + \u2500\u239f - (b - e)\u22c5\u239c\u2500 + \u2500\u239f\u239f\n",
        "    \u239d2   2\u23a0           \u239d2   2\u23a0\u23a0\n",
        "\u2500\u2500\u2500\u2500\u2500\u2500\u2500\u2500\u2500\u2500\u2500\u2500\u2500\u2500\u2500\u2500\u2500\u2500\u2500\u2500\u2500\u2500\u2500\u2500\u2500\u2500\u2500\u2500\u2500\u2500\n",
        "            2                 \n",
        "         \u03c1\u22c5x                  \n",
        "\u2500\u2500\u2500\u2500\u2500\u2500\u2500\u2500\u2500\u2500\u2500\u2500\u2500\u2500\u2500\u2500\u2500\u2500\u2500\u2500\u2500\u2500\u2500\u2500\u2500\u2500\u2500\u2500\u2500\u2500\n",
        "                              \n",
        "                              \n",
        "                              "
       ]
      }
     ],
     "prompt_number": 65
    },
    {
     "cell_type": "code",
     "collapsed": false,
     "input": [
      "milads.simplify().expand().simplify().expand().collect(b)"
     ],
     "language": "python",
     "metadata": {},
     "outputs": [
      {
       "latex": [
        "$$b \\left(- \\frac{p t^{2} x^{2}}{\\beta t x^{2} y^{2} + 2 \\rho x^{2} y^{2}} - \\frac{p t^{2} y^{2}}{\\beta t x^{2} y^{2} + 2 \\rho x^{2} y^{2}} - 2 \\frac{q t^{2} x^{2}}{\\beta t x^{2} y^{2} + 2 \\rho x^{2} y^{2}} - 2 \\frac{q t^{2} y^{2}}{\\beta t x^{2} y^{2} + 2 \\rho x^{2} y^{2}} - \\frac{r t^{2} x^{2}}{\\beta t x^{2} y^{2} + 2 \\rho x^{2} y^{2}} - \\frac{r t^{2} y^{2}}{\\beta t x^{2} y^{2} + 2 \\rho x^{2} y^{2}} + 4 \\frac{\\rho x^{2} y^{2}}{\\beta t x^{2} y^{2} + 2 \\rho x^{2} y^{2}}\\right) + \\frac{\\beta c t x^{2} y^{2}}{\\beta t x^{2} y^{2} + 2 \\rho x^{2} y^{2}} - 2 \\frac{c \\rho x^{2} y^{2}}{\\beta t x^{2} y^{2} + 2 \\rho x^{2} y^{2}} + \\frac{d q t^{2} y^{2}}{\\beta t x^{2} y^{2} + 2 \\rho x^{2} y^{2}} + \\frac{d r t^{2} y^{2}}{\\beta t x^{2} y^{2} + 2 \\rho x^{2} y^{2}} + \\frac{e p t^{2} y^{2}}{\\beta t x^{2} y^{2} + 2 \\rho x^{2} y^{2}} + \\frac{e q t^{2} y^{2}}{\\beta t x^{2} y^{2} + 2 \\rho x^{2} y^{2}} + \\frac{f q t^{2} x^{2}}{\\beta t x^{2} y^{2} + 2 \\rho x^{2} y^{2}} + \\frac{f r t^{2} x^{2}}{\\beta t x^{2} y^{2} + 2 \\rho x^{2} y^{2}} + \\frac{g p t^{2} x^{2}}{\\beta t x^{2} y^{2} + 2 \\rho x^{2} y^{2}} + \\frac{g q t^{2} x^{2}}{\\beta t x^{2} y^{2} + 2 \\rho x^{2} y^{2}} + 2 \\frac{\\gamma t^{2} x^{2} y^{2}}{\\beta t x^{2} y^{2} + 2 \\rho x^{2} y^{2}}$$"
       ],
       "metadata": {},
       "output_type": "pyout",
       "png": "[encoded data removed]",
       "prompt_number": 66,
       "text": [
        "  \u239b            2  2                    2  2                     2  2          \n",
        "  \u239c         p\u22c5t \u22c5x                  p\u22c5t \u22c5y                 2\u22c5q\u22c5t \u22c5x           \n",
        "b\u22c5\u239c- \u2500\u2500\u2500\u2500\u2500\u2500\u2500\u2500\u2500\u2500\u2500\u2500\u2500\u2500\u2500\u2500\u2500\u2500\u2500\u2500\u2500 - \u2500\u2500\u2500\u2500\u2500\u2500\u2500\u2500\u2500\u2500\u2500\u2500\u2500\u2500\u2500\u2500\u2500\u2500\u2500\u2500\u2500 - \u2500\u2500\u2500\u2500\u2500\u2500\u2500\u2500\u2500\u2500\u2500\u2500\u2500\u2500\u2500\u2500\u2500\u2500\u2500\u2500\u2500 - \u2500\n",
        "  \u239c       2  2        2  2        2  2        2  2        2  2        2  2    \n",
        "  \u239d  \u03b2\u22c5t\u22c5x \u22c5y  + 2\u22c5\u03c1\u22c5x \u22c5y    \u03b2\u22c5t\u22c5x \u22c5y  + 2\u22c5\u03c1\u22c5x \u22c5y    \u03b2\u22c5t\u22c5x \u22c5y  + 2\u22c5\u03c1\u22c5x \u22c5y    \u03b2\n",
        "\n",
        "          2  2                   2  2                    2  2                 \n",
        "     2\u22c5q\u22c5t \u22c5y                 r\u22c5t \u22c5x                  r\u22c5t \u22c5y                 4\n",
        "\u2500\u2500\u2500\u2500\u2500\u2500\u2500\u2500\u2500\u2500\u2500\u2500\u2500\u2500\u2500\u2500\u2500\u2500\u2500\u2500 - \u2500\u2500\u2500\u2500\u2500\u2500\u2500\u2500\u2500\u2500\u2500\u2500\u2500\u2500\u2500\u2500\u2500\u2500\u2500\u2500\u2500 - \u2500\u2500\u2500\u2500\u2500\u2500\u2500\u2500\u2500\u2500\u2500\u2500\u2500\u2500\u2500\u2500\u2500\u2500\u2500\u2500\u2500 + \u2500\u2500\u2500\u2500\u2500\u2500\u2500\n",
        "    2  2        2  2        2  2        2  2        2  2        2  2        2 \n",
        "\u22c5t\u22c5x \u22c5y  + 2\u22c5\u03c1\u22c5x \u22c5y    \u03b2\u22c5t\u22c5x \u22c5y  + 2\u22c5\u03c1\u22c5x \u22c5y    \u03b2\u22c5t\u22c5x \u22c5y  + 2\u22c5\u03c1\u22c5x \u22c5y    \u03b2\u22c5t\u22c5x \u22c5\n",
        "\n",
        "    2  2      \u239e               2  2                    2  2                   2\n",
        "\u22c5\u03c1\u22c5x \u22c5y       \u239f        \u03b2\u22c5c\u22c5t\u22c5x \u22c5y              2\u22c5c\u22c5\u03c1\u22c5x \u22c5y               d\u22c5q\u22c5t \n",
        "\u2500\u2500\u2500\u2500\u2500\u2500\u2500\u2500\u2500\u2500\u2500\u2500\u2500\u2500\u239f + \u2500\u2500\u2500\u2500\u2500\u2500\u2500\u2500\u2500\u2500\u2500\u2500\u2500\u2500\u2500\u2500\u2500\u2500\u2500\u2500\u2500 - \u2500\u2500\u2500\u2500\u2500\u2500\u2500\u2500\u2500\u2500\u2500\u2500\u2500\u2500\u2500\u2500\u2500\u2500\u2500\u2500\u2500 + \u2500\u2500\u2500\u2500\u2500\u2500\u2500\u2500\u2500\u2500\u2500\u2500\n",
        " 2        2  2\u239f        2  2        2  2        2  2        2  2        2  2   \n",
        "y  + 2\u22c5\u03c1\u22c5x \u22c5y \u23a0   \u03b2\u22c5t\u22c5x \u22c5y  + 2\u22c5\u03c1\u22c5x \u22c5y    \u03b2\u22c5t\u22c5x \u22c5y  + 2\u22c5\u03c1\u22c5x \u22c5y    \u03b2\u22c5t\u22c5x \u22c5y  + \n",
        "\n",
        "  2                    2  2                    2  2                    2  2   \n",
        "\u22c5y                d\u22c5r\u22c5t \u22c5y                e\u22c5p\u22c5t \u22c5y                e\u22c5q\u22c5t \u22c5y    \n",
        "\u2500\u2500\u2500\u2500\u2500\u2500\u2500\u2500\u2500 + \u2500\u2500\u2500\u2500\u2500\u2500\u2500\u2500\u2500\u2500\u2500\u2500\u2500\u2500\u2500\u2500\u2500\u2500\u2500\u2500\u2500 + \u2500\u2500\u2500\u2500\u2500\u2500\u2500\u2500\u2500\u2500\u2500\u2500\u2500\u2500\u2500\u2500\u2500\u2500\u2500\u2500\u2500 + \u2500\u2500\u2500\u2500\u2500\u2500\u2500\u2500\u2500\u2500\u2500\u2500\u2500\u2500\u2500\u2500\u2500\u2500\n",
        "     2  2        2  2        2  2        2  2        2  2        2  2        2\n",
        "2\u22c5\u03c1\u22c5x \u22c5y    \u03b2\u22c5t\u22c5x \u22c5y  + 2\u22c5\u03c1\u22c5x \u22c5y    \u03b2\u22c5t\u22c5x \u22c5y  + 2\u22c5\u03c1\u22c5x \u22c5y    \u03b2\u22c5t\u22c5x \u22c5y  + 2\u22c5\u03c1\u22c5x \n",
        "\n",
        "                 2  2                    2  2                    2  2         \n",
        "            f\u22c5q\u22c5t \u22c5x                f\u22c5r\u22c5t \u22c5x                g\u22c5p\u22c5t \u22c5x          \n",
        "\u2500\u2500\u2500 + \u2500\u2500\u2500\u2500\u2500\u2500\u2500\u2500\u2500\u2500\u2500\u2500\u2500\u2500\u2500\u2500\u2500\u2500\u2500\u2500\u2500 + \u2500\u2500\u2500\u2500\u2500\u2500\u2500\u2500\u2500\u2500\u2500\u2500\u2500\u2500\u2500\u2500\u2500\u2500\u2500\u2500\u2500 + \u2500\u2500\u2500\u2500\u2500\u2500\u2500\u2500\u2500\u2500\u2500\u2500\u2500\u2500\u2500\u2500\u2500\u2500\u2500\u2500\u2500 + \n",
        "  2        2  2        2  2        2  2        2  2        2  2        2  2   \n",
        "\u22c5y    \u03b2\u22c5t\u22c5x \u22c5y  + 2\u22c5\u03c1\u22c5x \u22c5y    \u03b2\u22c5t\u22c5x \u22c5y  + 2\u22c5\u03c1\u22c5x \u22c5y    \u03b2\u22c5t\u22c5x \u22c5y  + 2\u22c5\u03c1\u22c5x \u22c5y    \n",
        "\n",
        "           2  2                   2  2  2    \n",
        "      g\u22c5q\u22c5t \u22c5x               2\u22c5\u03b3\u22c5t \u22c5x \u22c5y     \n",
        "\u2500\u2500\u2500\u2500\u2500\u2500\u2500\u2500\u2500\u2500\u2500\u2500\u2500\u2500\u2500\u2500\u2500\u2500\u2500\u2500\u2500 + \u2500\u2500\u2500\u2500\u2500\u2500\u2500\u2500\u2500\u2500\u2500\u2500\u2500\u2500\u2500\u2500\u2500\u2500\u2500\u2500\u2500\n",
        "     2  2        2  2        2  2        2  2\n",
        "\u03b2\u22c5t\u22c5x \u22c5y  + 2\u22c5\u03c1\u22c5x \u22c5y    \u03b2\u22c5t\u22c5x \u22c5y  + 2\u22c5\u03c1\u22c5x \u22c5y "
       ]
      }
     ],
     "prompt_number": 66
    },
    {
     "cell_type": "code",
     "collapsed": false,
     "input": [
      "difference = solution2 - milads\n",
      "difference"
     ],
     "language": "python",
     "metadata": {},
     "outputs": [
      {
       "latex": [
        "$$- \\frac{2 b + c \\left(\\frac{\\beta t}{2 \\rho} -1\\right) + \\frac{\\gamma t^{2}}{\\rho} + \\frac{t^{2} \\left(\\left(- b + f\\right) \\left(\\frac{1}{2} q + \\frac{1}{2} r\\right) - \\left(b - g\\right) \\left(\\frac{1}{2} p + \\frac{1}{2} q\\right)\\right)}{\\rho y^{2}} + \\frac{t^{2} \\left(\\left(- b + d\\right) \\left(\\frac{1}{2} q + \\frac{1}{2} r\\right) - \\left(b - e\\right) \\left(\\frac{1}{2} p + \\frac{1}{2} q\\right)\\right)}{\\rho x^{2}}}{\\frac{\\beta t}{2 \\rho} + 1} + \\frac{- b p t^{2} x^{2} - b p t^{2} y^{2} - 2 b q t^{2} x^{2} - 2 b q t^{2} y^{2} - b r t^{2} x^{2} - b r t^{2} y^{2} + 4 b \\rho x^{2} y^{2} + \\beta c t x^{2} y^{2} - 2 c \\rho x^{2} y^{2} + d q t^{2} y^{2} + d r t^{2} y^{2} + e p t^{2} y^{2} + e q t^{2} y^{2} + f q t^{2} x^{2} + f r t^{2} x^{2} + g p t^{2} x^{2} + g q t^{2} x^{2} + 2 \\gamma t^{2} x^{2} y^{2}}{x^{2} y^{2} \\left(\\beta t + 2 \\rho\\right)}$$"
       ],
       "metadata": {},
       "output_type": "pyout",
       "png": "[encoded data removed]",
       "prompt_number": 67,
       "text": [
        "                              2 \u239b         \u239bq   r\u239e           \u239bp   q\u239e\u239e    2 \u239b   \n",
        "                         2   t \u22c5\u239c(-b + f)\u22c5\u239c\u2500 + \u2500\u239f - (b - g)\u22c5\u239c\u2500 + \u2500\u239f\u239f   t \u22c5\u239c(-b\n",
        "          \u239b\u03b2\u22c5t    \u239e   \u03b3\u22c5t       \u239d         \u239d2   2\u23a0           \u239d2   2\u23a0\u23a0      \u239d   \n",
        "  2\u22c5b + c\u22c5\u239c\u2500\u2500\u2500 - 1\u239f + \u2500\u2500\u2500\u2500 + \u2500\u2500\u2500\u2500\u2500\u2500\u2500\u2500\u2500\u2500\u2500\u2500\u2500\u2500\u2500\u2500\u2500\u2500\u2500\u2500\u2500\u2500\u2500\u2500\u2500\u2500\u2500\u2500\u2500\u2500\u2500\u2500\u2500\u2500\u2500\u2500\u2500\u2500\u2500 + \u2500\u2500\u2500\u2500\u2500\u2500\u2500\n",
        "          \u239d2\u22c5\u03c1    \u23a0    \u03c1                          2                           \n",
        "                                               \u03c1\u22c5y                            \n",
        "- \u2500\u2500\u2500\u2500\u2500\u2500\u2500\u2500\u2500\u2500\u2500\u2500\u2500\u2500\u2500\u2500\u2500\u2500\u2500\u2500\u2500\u2500\u2500\u2500\u2500\u2500\u2500\u2500\u2500\u2500\u2500\u2500\u2500\u2500\u2500\u2500\u2500\u2500\u2500\u2500\u2500\u2500\u2500\u2500\u2500\u2500\u2500\u2500\u2500\u2500\u2500\u2500\u2500\u2500\u2500\u2500\u2500\u2500\u2500\u2500\u2500\u2500\u2500\u2500\u2500\u2500\u2500\u2500\u2500\u2500\u2500\u2500\u2500\u2500\u2500\u2500\n",
        "                                                    \u03b2\u22c5t                       \n",
        "                                                    \u2500\u2500\u2500 + 1                   \n",
        "                                                    2\u22c5\u03c1                       \n",
        "\n",
        "      \u239bq   r\u239e           \u239bp   q\u239e\u239e                                              \n",
        " + d)\u22c5\u239c\u2500 + \u2500\u239f - (b - e)\u22c5\u239c\u2500 + \u2500\u239f\u239f                                              \n",
        "      \u239d2   2\u23a0           \u239d2   2\u23a0\u23a0                                              \n",
        "\u2500\u2500\u2500\u2500\u2500\u2500\u2500\u2500\u2500\u2500\u2500\u2500\u2500\u2500\u2500\u2500\u2500\u2500\u2500\u2500\u2500\u2500\u2500\u2500\u2500\u2500\u2500\u2500\u2500\u2500\u2500\u2500                                              \n",
        "              2                           2  2        2  2          2  2      \n",
        "           \u03c1\u22c5x                     - b\u22c5p\u22c5t \u22c5x  - b\u22c5p\u22c5t \u22c5y  - 2\u22c5b\u22c5q\u22c5t \u22c5x  - 2\u22c5b\n",
        "\u2500\u2500\u2500\u2500\u2500\u2500\u2500\u2500\u2500\u2500\u2500\u2500\u2500\u2500\u2500\u2500\u2500\u2500\u2500\u2500\u2500\u2500\u2500\u2500\u2500\u2500\u2500\u2500\u2500\u2500\u2500\u2500 + \u2500\u2500\u2500\u2500\u2500\u2500\u2500\u2500\u2500\u2500\u2500\u2500\u2500\u2500\u2500\u2500\u2500\u2500\u2500\u2500\u2500\u2500\u2500\u2500\u2500\u2500\u2500\u2500\u2500\u2500\u2500\u2500\u2500\u2500\u2500\u2500\u2500\u2500\u2500\u2500\u2500\u2500\u2500\n",
        "                                                                              \n",
        "                                                                              \n",
        "                                                                              \n",
        "\n",
        "                                                                              \n",
        "                                                                              \n",
        "                                                                              \n",
        "                                                                              \n",
        "    2  2        2  2        2  2          2  2          2  2          2  2    \n",
        "\u22c5q\u22c5t \u22c5y  - b\u22c5r\u22c5t \u22c5x  - b\u22c5r\u22c5t \u22c5y  + 4\u22c5b\u22c5\u03c1\u22c5x \u22c5y  + \u03b2\u22c5c\u22c5t\u22c5x \u22c5y  - 2\u22c5c\u22c5\u03c1\u22c5x \u22c5y  + d\n",
        "\u2500\u2500\u2500\u2500\u2500\u2500\u2500\u2500\u2500\u2500\u2500\u2500\u2500\u2500\u2500\u2500\u2500\u2500\u2500\u2500\u2500\u2500\u2500\u2500\u2500\u2500\u2500\u2500\u2500\u2500\u2500\u2500\u2500\u2500\u2500\u2500\u2500\u2500\u2500\u2500\u2500\u2500\u2500\u2500\u2500\u2500\u2500\u2500\u2500\u2500\u2500\u2500\u2500\u2500\u2500\u2500\u2500\u2500\u2500\u2500\u2500\u2500\u2500\u2500\u2500\u2500\u2500\u2500\u2500\u2500\u2500\u2500\u2500\u2500\u2500\u2500\u2500\u2500\n",
        "                                                               2  2           \n",
        "                                                              x \u22c5y \u22c5(\u03b2\u22c5t + 2\u22c5\u03c1\n",
        "                                                                              \n",
        "\n",
        "                                                                              \n",
        "                                                                              \n",
        "                                                                              \n",
        "                                                                              \n",
        "    2  2        2  2        2  2        2  2        2  2        2  2        2 \n",
        "\u22c5q\u22c5t \u22c5y  + d\u22c5r\u22c5t \u22c5y  + e\u22c5p\u22c5t \u22c5y  + e\u22c5q\u22c5t \u22c5y  + f\u22c5q\u22c5t \u22c5x  + f\u22c5r\u22c5t \u22c5x  + g\u22c5p\u22c5t \u22c5\n",
        "\u2500\u2500\u2500\u2500\u2500\u2500\u2500\u2500\u2500\u2500\u2500\u2500\u2500\u2500\u2500\u2500\u2500\u2500\u2500\u2500\u2500\u2500\u2500\u2500\u2500\u2500\u2500\u2500\u2500\u2500\u2500\u2500\u2500\u2500\u2500\u2500\u2500\u2500\u2500\u2500\u2500\u2500\u2500\u2500\u2500\u2500\u2500\u2500\u2500\u2500\u2500\u2500\u2500\u2500\u2500\u2500\u2500\u2500\u2500\u2500\u2500\u2500\u2500\u2500\u2500\u2500\u2500\u2500\u2500\u2500\u2500\u2500\u2500\u2500\u2500\u2500\u2500\u2500\n",
        "                                                                              \n",
        ")                                                                             \n",
        "                                                                              \n",
        "\n",
        "                             \n",
        "                             \n",
        "                             \n",
        "                             \n",
        " 2        2  2        2  2  2\n",
        "x  + g\u22c5q\u22c5t \u22c5x  + 2\u22c5\u03b3\u22c5t \u22c5x \u22c5y \n",
        "\u2500\u2500\u2500\u2500\u2500\u2500\u2500\u2500\u2500\u2500\u2500\u2500\u2500\u2500\u2500\u2500\u2500\u2500\u2500\u2500\u2500\u2500\u2500\u2500\u2500\u2500\u2500\u2500\u2500\n",
        "                             \n",
        "                             \n",
        "                             "
       ]
      }
     ],
     "prompt_number": 67
    },
    {
     "cell_type": "code",
     "collapsed": false,
     "input": [
      "difference = difference.expand().simplify().expand()\n",
      "difference"
     ],
     "language": "python",
     "metadata": {},
     "outputs": [
      {
       "latex": [
        "$$0$$"
       ],
       "metadata": {},
       "output_type": "pyout",
       "png": "[encoded data removed]",
       "prompt_number": 70,
       "text": [
        "0"
       ]
      }
     ],
     "prompt_number": 70
    },
    {
     "cell_type": "code",
     "collapsed": false,
     "input": [],
     "language": "python",
     "metadata": {},
     "outputs": []
    }
   ],
   "metadata": {}
  }
 ]
}