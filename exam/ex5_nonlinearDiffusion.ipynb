{
 "metadata": {
  "name": ""
 },
 "nbformat": 3,
 "nbformat_minor": 0,
 "worksheets": [
  {
   "cells": [
    {
     "cell_type": "markdown",
     "metadata": {},
     "source": [
      "#Problem 5: Nonlinear diffusion"
     ]
    },
    {
     "cell_type": "markdown",
     "metadata": {},
     "source": [
      "---\n",
      "## Mathematical problem\n",
      "We look at the PDE problem\n",
      "\n",
      "\\begin{align*}\n",
      "u_t &= \\nabla\\cdot (\\alpha (u)\\nabla u),\\quad &\\pmb{x}\\in\\Omega,\\\n",
      "t >0\\\\\n",
      "u(\\pmb{x},0) &= I(\\pmb{x}),\\quad &\\pmb{x}\\in\\Omega\\\\\n",
      "u(\\pmb{x},t) &= g(\\pmb{x}),\\quad &\\pmb{x}\\in\\partial\\Omega_D,\\ t>0\\\\\n",
      "-(1+\\alpha_0u^4)\\frac{\\partial}{\\partial n} u(\\pmb{x}, t) &= h(u - T_s),\\quad\n",
      "&\\pmb{x}\\in\\partial\\Omega_R\n",
      "\\end{align*}\n",
      "\n",
      "Here, $u(\\pmb{x},t)$ is the temperature in some solid material, $I$ is the initial temperature, $g$ is the controlled temperature at a part of the boundary, while at the rest of the boundary we apply Newton's cooling law with $h$ as a heat transfer coefficient and $T_s$ as the temperature in the surrounding air. The variable coefficient is given by $\\alpha (u) = 1+\\alpha_0u^4$."
     ]
    },
    {
     "cell_type": "markdown",
     "metadata": {},
     "source": [
      "---\n",
      "##Part I\n",
      "\n",
      "*Perform a Crank-Nicolson time discretization and define a Picard iteration method for the resulting spatial problems. (Do not pay attention to the boundary conditions.*\n",
      "\n",
      "* **Crank-Nicolson: **\n",
      "$[D_t u]^n\\approx (u^{n+1/2}-u^{n-1/2})/\\Delta t$\n",
      "\n",
      "\n",
      "* **Oprator notation: ** \n",
      "\n",
      "     * $\\left[D_t u = \\nabla\\cdot \\left(\\overline{\\alpha (u)}^t\\nabla \\bar{u}^t\\right)\\right]^{n+1/2}$\n",
      " \n",
      "     * $[\\bar{u}^t]^n = \\frac{1}{2} (u^{n - 1/2} + u^{n + 1/2}) \\approx u(t_n)$\n",
      "\n",
      "\n",
      "* **Arithmetic mean: ** \n",
      "    * $u^{n+1} - \\frac{\\Delta t}{2}\\nabla\\cdot \\left(\\overline{\\alpha (u)}^{t,n+1/2}\\nabla u^{n+1}\\right)\n",
      "    =\\frac{\\Delta t}{2}\\nabla\\cdot\\left(\\overline{\\alpha (u)}^{t,n+1/2}\\nabla u^{n}\\right)\n",
      "    + u^{n}$\n",
      "    \n",
      "    * $\\overline{\\alpha (u)}^{t,n+1/2} \\approx \\frac{1}{2}\\left[{\\alpha}(u^{n+1})+ {\\alpha}(u^{n}) \\right]$\n",
      "\n",
      "\n",
      "* **Picard: **\n",
      "    * ${\\alpha}(u^{n+1})\\nabla u^{n+1} \\approx {\\alpha}(u_-)\\nabla u^{n+1}$ where $u_-$ is the most         recent approximation $u^{n+1}$. \n",
      "    \n",
      "    * ${\\alpha}(u^{n+1,k})\\nabla u^{n+1} \\approx {\\alpha}(u^{n+1,k-1})\\nabla u^{n+1}$ for $k=1,2,...$\n",
      "    \n",
      "        * Start at each time step: ${\\alpha}(u^{n+1,0}) = {\\alpha}(u^{n})$\n",
      "        * Relaxation: $u = \\omega u^* + (1- \\omega)u_-$\n",
      "        * Stopping criteria $|u - u_-| < \\epsilon$"
     ]
    },
    {
     "cell_type": "markdown",
     "metadata": {},
     "source": [
      "---\n",
      "##Part II\n",
      "\n",
      "*Perform a Backward-Euler time discretization and derive the variational form for the resulting spatial problems. Use a Picard iteration method to linearize the variational form.*\n",
      "\n",
      "* **Backward difference: **\n",
      "$[D_t^- u]^n\\approx (u^{n}-u^{n-1})/\\Delta t$\n",
      "\n",
      "\n",
      "* **Oprator notation: ** \n",
      "$[D_t^- = \\nabla\\cdot (\\alpha (u)\\nabla u)]^n$\n",
      "\n",
      "\n",
      "* **Residual: ** \n",
      "$R = u^n - \\Delta t\\nabla\\cdot({\\alpha}(u^n)\\nabla u^n)- u^{n-1}$\n",
      "\n",
      "\n",
      "* **Idea: ** \n",
      "Seek an approximate solution $u$ in some space $V = \\text{span}\\{ \\psi_0, ..., \\psi_N\\}  \\rightarrow u^n = \\sum_j c_j^n \\psi_j + B$\n",
      " \n",
      " \n",
      "* **Dirichlet condition: ** \n",
      "Demanding all $\\psi_i(\\pmb{x}) = 0$ for $\\pmb{x} \\in \\partial \\Omega_D$, but add a boundary function $B(\\pmb{x}) = g(\\pmb{x})$.\n",
      "\n",
      "\n",
      "* **Galerkin formulation: ** \n",
      " * $(R,v)=0,\\quad \\forall v\\in V$\n",
      " * Equivalent to $R$ being orthogonal to the $N +1$ basis functions only:  $(R,\\psi_i)=0,\\quad i\\in{\\mathcal{I}_s} = \\{0,...,N\\} $\n",
      " \n",
      " \n",
      "* **Variational form: ** \n",
      "$(u^n,{\\psi}_i) + \\Delta t ({\\alpha}(u^n)\\nabla u^n,\\nabla{\\psi}_i)+ \\Delta t(h(u^n- T_s), {\\psi}_i)_R\n",
      "= (u^{n-1},{\\psi}_i)$\n",
      "\n",
      "\n",
      "\n",
      "* **Initial condition: ** \n",
      " * $u(\\pmb{x},0) = \\sum_j c_j^0 \\psi_j(\\pmb{x})= I(\\pmb{x})$\n",
      " * $\\sum_j (\\psi_j, {\\psi}_i) c_j^0=  (I,{\\psi}_i)$\n",
      " \n",
      " \n",
      "* **Picard: ** \n",
      "$\n",
      "\\underbrace{(u^n,{\\psi}_i) + \\Delta t({\\alpha(u_-)}\\nabla u^n,\\nabla{\\psi}_i) + \\Delta t(h(u^n- T_s), {\\psi}_i)_R}_{a(u,v)}= \\underbrace{(u^{n-1},{\\psi}_i)}_{L(v)}\n",
      "$"
     ]
    },
    {
     "cell_type": "markdown",
     "metadata": {},
     "source": [
      "---\n",
      "##Part III\n",
      "\n",
      "*Apply Newton's method to the nonlinear variational form in b). Set up expressions for the right-hand side and the coefficient matrix in the linear system that must be solved in each Newton iteration.*\n",
      "\n",
      "* **Algebraic equation: **  $F (u) = a(u,v) - L(u) = 0$\n",
      "\n",
      "\n",
      "* **Newton's method: ** Approx $F$ by Taylor expansion around $J(u^n_-)\\overbrace{\\left(u^n - u^n_-\\right)}^{\\delta u}  = -F(u^n_-)$\n",
      "\n",
      "\n",
      "* **Jacobian: ** \n",
      "\n",
      " * Inserting $u^n = \\sum_j c_j^n \\psi_j + B$ and $u^{n-1} = \\sum_j c_j^{n-1} \\psi_j + B$ in variational form:\n",
      "     \n",
      "    \\begin{align}\n",
      "    J_{i,j} = \\frac{\\partial F_i}{\\partial c^n_j} \n",
      "    = ({\\psi}_j,{\\psi}_i) + \\Delta t (\\left .\\frac{\\partial\\alpha}{\\partial u} \\right|_{u = u^n} {\\psi}_j\\nabla u^n,\\nabla{\\psi}_i)\n",
      "    + \\Delta t (\\alpha(u^n)\\nabla {\\psi}_j,\\nabla{\\psi}_i)+ \\Delta t(h(\\psi_j- T_s), {\\psi}_i)_R \n",
      "    \\end{align}\n",
      "\n",
      "* **Steps: ** \n",
      "\n",
      "    * Solve $J(u^n_-) \\delta u = -F(u^n_-)$ wtr to $\\delta u$\n",
      "    * Update $u^n = u^n_- + \\delta u$ \n"
     ]
    },
    {
     "cell_type": "markdown",
     "metadata": {},
     "source": [
      "---\n",
      "##Part IV\n",
      "\n",
      "* **FDM: **  \n",
      "\\begin{align}\n",
      "\\left[ D_x \\bar{\\alpha}^x D_x u \\right]^n_i \n",
      "&=\\left[ D_x \\bar{\\alpha}_i^x \\left(\\frac{u_{i+1/2} - u_{i-1/2}}{\\Delta x} \\right)\\right]^n \n",
      "=\\frac{1}{\\Delta x^2}\\left[\\bar{\\alpha}_{i+1/2}^x \\left(u_{i+1} - u_{i} \\right)- \\bar{\\alpha}_{i-1/2}^x \\left(u_{i} - u_{i-1} \\right)\\right]^n \\\\\n",
      "&= \\frac{1}{\\Delta x^2}\\left[\\frac{1}{2}\\left( \\alpha_i + \\alpha_{i+1} \\right)  \\left(u_{i+1} - u_{i} \\right)- \\frac{1}{2}\\left( \\alpha_{i-1} + \\alpha_{i} \\right) \\left(u_{i} - u_{i-1} \\right)\\right]^n \n",
      "\\end{align}"
     ]
    },
    {
     "cell_type": "code",
     "collapsed": false,
     "input": [],
     "language": "python",
     "metadata": {},
     "outputs": []
    }
   ],
   "metadata": {}
  }
 ]
}