{
 "metadata": {
  "name": ""
 },
 "nbformat": 3,
 "nbformat_minor": 0,
 "worksheets": [
  {
   "cells": [
    {
     "cell_type": "markdown",
     "metadata": {},
     "source": [
      "#Problem 6: Finite element calculations with P2 elements"
     ]
    },
    {
     "cell_type": "markdown",
     "metadata": {},
     "source": [
      "---\n",
      "## Mathematical problem\n",
      "We address the problem\n",
      "\n",
      "\\begin{align*}\n",
      "-u''(x) = 2,\\quad x\\in (0,1),\\quad u(0)=\\beta,\\ u(1)=\\gamma,\n",
      "\\end{align*}\n",
      "\n",
      "and seek a numerical solution u in some vector space V (modulo boundary conditions) with basis $\\{\\psi_i\\}_{i=0}^N$."
     ]
    },
    {
     "cell_type": "markdown",
     "metadata": {},
     "source": [
      "---\n",
      "##Part I\n",
      "\n",
      "*Explain the principles of the least squares method, the Galerkin method, and the collocation method. Describe a method to incorporate the boundary conditions.*\n",
      "\n",
      "* **Fundamental idea: ** \n",
      "    * Seek an approximate solution of $u$ in some space $V =\\hbox{span}\\{\\psi_j\\}_{j=0}^N \\Rightarrow u(x) = \\sum_{j=0}^N c_j \\psi_j(x)$\n",
      "    * Abstract differential equation for a function $u(x) \\rightarrow \\mathcal{L}(u) = 0, \\quad x\\in \\Omega $\n",
      "    \n",
      "    * Residual as measure for the error $\\rightarrow$ Minimazation problem for $R =  \\mathcal{L}(u)$\n",
      "\n",
      "\n",
      "* **Least squares method: **\n",
      "    * Find $\\{c_j\\}_{j=0}^N$ such that the square norm of the residual is minimized.\n",
      "    \n",
      "    $$\n",
      "    \\min_{c_0,\\ldots,c_N} E = (R,R) = \\int_\\Omega R^2 dx\n",
      "    $$\n",
      "    \n",
      "    * Differentiating with respect to the free parameters $\\{c_j\\}_{j=0}^N$ gives $N+1$ equations:\n",
      "    \n",
      "    $$\n",
      "    \\int_\\Omega 2R \\frac{\\partial R}{\\partial c_i} dx = 0 \\rightarrow (R, \\frac{\\partial R}{\\partial c_i}) = 0\n",
      "    $$\n",
      "    \n",
      "\n",
      "* **Galerkin method: **\n",
      "    * Demanding the error/residual to be orthogonal to the space $V$\n",
      "    \n",
      "    * Seeking $\\{c_j\\}_{j=0}^N$ such that $(R,v) = 0, \\quad \\forall v\\in V$\n",
      "    \n",
      "    * Equivalent to $R$ being orthogonal to the $N +1$ basis functions only:  $(R,\\psi_i)=0,\\quad i\\in{\\mathcal{I}_s} = \\{0,...,N\\} $\n",
      "    \n",
      "    * Generalization: weighted residuals, $R$ orthogonal to some other space than $V$. \n",
      "\n",
      "\n",
      "* **Collocation method: ** \n",
      "\n",
      "    * Demand that $R$ vanishes at $N + 1$ selected points $x_0, ..., x_N$ in $\\Omega$: $R(x_i; c_0, ..., c_N) = 0$\n",
      "    \n",
      "    * Method of weighted residuals with Dirac delta functions as weighting functions: $(R,\\delta(x - x_i))=0$\n",
      "    \n",
      "\n",
      "* **Boundary condition: ** \n",
      "\n",
      "    * We demend $\\psi_i(0) = \\psi_i(1) = 0$ but add $B(x)$ to take care of boundary conditions:\n",
      "    \n",
      "        * $u(x) = B(x) + \\sum_{j=0}^N c_j \\psi_j(x)$\n",
      "    \n",
      "    * Possible form for boundary function:\n",
      "        * $B(x)= \\beta + (\\gamma - \\beta)x $\n",
      "    \n",
      "    * Finite element-based $B(x)$:\n",
      "        * $\\varphi_i(x_j) = \\delta_{ij}$  \n",
      "        \n",
      "        * $u(x) = \\sum_{j \\in I_b}U_j \\varphi_j(x) + \\sum_{j \\in I_s}c_j \\varphi_j(x)$ \n"
     ]
    },
    {
     "cell_type": "markdown",
     "metadata": {},
     "source": [
      "---\n",
      "##Part II\n",
      "\n",
      "*Let $V=\\hbox{span}\\{\\sin\\pi x\\}$ and compute the solution corresponding to the least squares method, the Galerkin method, and the collocation method (the latter with $x=0.5$ as collocation point). Set $\\alpha=\\gamma=2$ for simplicity. What are the errors in each of the approximate method?*\n",
      "\n",
      "* **Approximation of u(x): **\n",
      "    * $u(x) =  \\beta + (\\gamma - \\beta)x+ c \\sin(\\pi x) = 2 + c \\sin(\\pi x)  $\n",
      "\n",
      "\n",
      "* **Least square: ** $u(x) = 2 +  \\frac{8}{\\pi^3}  \\sin(\\pi x)$\n",
      "\n",
      "    * $R = u'' + 2 = -c\\pi^2 \\sin(\\pi x) + 2$\n",
      "    \n",
      "    * $\\frac{\\partial R}{\\partial c} = -\\pi^2 \\sin(\\pi x)$\n",
      "    \n",
      "    * $(R,  \\frac{\\partial R}{\\partial c}) = -c\\pi^4\\int_0^1 \\sin^2(\\pi x) -2\\pi^2 \\int_0^1\\sin(\\pi x) = -\\frac{\\pi^4}{2}c + 4\\pi =0 $\n",
      "    \n",
      "    * $c = \\frac{8}{\\pi^3}  $\n",
      "\n",
      "\n",
      "* **Galerkin: ** $u(x) = 2 + \\frac{8}{\\pi^2} \\sin(\\pi x)$\n",
      "\n",
      "    * $(u'' + 2, v) = 0 \\Rightarrow (u',v') =(2,v), \\quad \\forall v \\in V$\n",
      "    \n",
      "    * $u'= c\\pi\\cos(\\pi x) $\n",
      "    \n",
      "    * $(u',v') = c\\pi^2\\int_0^1 \\cos^2(\\pi x) = \\frac{\\pi^2}{2} c$\n",
      "    \n",
      "    * $(2,v) = 2\\int_0^1 \\sin(\\pi x) =\\frac{4}{\\pi}$\n",
      "    \n",
      "    * $c = \\frac{8}{\\pi^3} $\n",
      "    \n",
      "    \n",
      "* **Collocation method ($x_p = 0.5$): ** $u(x) = 2 + \\frac{2}{\\pi^2} \\sin(\\pi x)$\n",
      "\n",
      "    * $R(x_p, c) = -c\\pi^2 \\sin(\\pi x_p) + 2 = -c\\pi^2 + 2= 0$\n",
      "    \n",
      "    * $c = \\frac{2}{\\pi^2}$\n",
      "    \n",
      " \n",
      "* **Errors: **\n",
      "\n",
      "    * $u_e(x) =x + 2 - x^2$"
     ]
    },
    {
     "cell_type": "code",
     "collapsed": false,
     "input": [
      "from pylab import*\n",
      "\n",
      "x = linspace(0, 1.0 ,100)\n",
      "ue = x*(1-x)\n",
      "ulg = 8./pi**3  * sin(pi*x)\n",
      "uc  = 2./pi**2  * sin(pi*x)\n",
      "\n",
      "Egl = -(ulg - ue)\n",
      "Ec  = -(uc - ue)\n",
      "print max(Ec), min(Ec) \n",
      "print max(Egl), min(Egl)\n",
      "plot(x, ue, x, ulg, x,uc)\n"
     ],
     "language": "python",
     "metadata": {},
     "outputs": [
      {
       "output_type": "stream",
       "stream": "stdout",
       "text": [
        "0.0473576321802 -2.48165326467e-17\n",
        "0.0106262669933 -0.00800530646158\n"
       ]
      },
      {
       "metadata": {},
       "output_type": "pyout",
       "prompt_number": 73,
       "text": [
        "[<matplotlib.lines.Line2D at 0x5fe7890>,\n",
        " <matplotlib.lines.Line2D at 0x5fe7ad0>,\n",
        " <matplotlib.lines.Line2D at 0x5fea090>]"
       ]
      },
      {
       "metadata": {},
       "output_type": "display_data",
       "png": "[encoded data removed]",
       "text": [
        "<matplotlib.figure.Figure at 0x5c843d0>"
       ]
      }
     ],
     "prompt_number": 73
    },
    {
     "cell_type": "markdown",
     "metadata": {},
     "source": [
      "---\n",
      "##Part III\n",
      "\n",
      "*Now we want to use P2 elements on a uniform mesh. Explain how to calculate the element matrix and vector for cells in the interior of the mesh (those not affected by boundary conditions) and set up the results. Describe how the element matrix and vector are assembled into the global linear sytem.*\n"
     ]
    },
    {
     "cell_type": "markdown",
     "metadata": {},
     "source": [
      "---\n",
      "##Part IV\n",
      "\n",
      "*Use only one element and explain how the boundary conditions affect the element matrix and vector. Why does this numerical solution coincide with the exact one? Two equal-sized P1 elements lead to exact values at the nodes. Sketch these P2 and P1 solutions.*"
     ]
    },
    {
     "cell_type": "markdown",
     "metadata": {},
     "source": [
      "---\n",
      "##Part V\n",
      "\n",
      "*The equations in the global linear system corresponding to the mid nodes in P2 elements can be eliminated. Perform this elimination, but in the presentation just quote the new equations associated with the nodes on the cell boundaries.*"
     ]
    }
   ],
   "metadata": {}
  }
 ]
}