{
 "metadata": {
  "name": ""
 },
 "nbformat": 3,
 "nbformat_minor": 0,
 "worksheets": [
  {
   "cells": [
    {
     "cell_type": "markdown",
     "metadata": {},
     "source": [
      "#Problem 4: Finite elements for a 1D wave equation"
     ]
    },
    {
     "cell_type": "markdown",
     "metadata": {},
     "source": [
      "---\n",
      "## Mathematical problem\n",
      "We consider the 1D wave equation problem on $\\Omega = [0,L]$\n",
      "\n",
      "\\begin{align*}\n",
      "u_{tt} = c^2u_{xx} + f,\\quad u(x,0)=I(x),\\ u_t(x,0)=0,\\ u'(0)=u'(L)=0\n",
      "\\end{align*}"
     ]
    },
    {
     "cell_type": "markdown",
     "metadata": {},
     "source": [
      "---\n",
      "##Part I\n",
      "\n",
      "*Explain how the initial condition can be approximated by the finite element method using the principles of least squares, projection (Galerkin), and interpolation (collocation).*\n",
      "\n",
      "* $u(x,0) = \\sum_{j=0}^N c^0_j \\psi_j(x) = I(x)$\n",
      "    \n",
      "\n",
      "* $R = \\sum_{j=0}^N c^0_j \\psi_j(x) - I(x)$\n",
      "\n",
      "\n",
      "* **Least square: **\n",
      "\n",
      "    * $(R, \\frac{\\partial R}{\\partial c_i}) = \\sum_{j=0}^N c_j \\left(\\psi_j-I,\\psi_i \\right) =0\n",
      "    \\Rightarrow \\sum_{j=0}^N c_j \\left(\\psi_j,\\psi_i \\right) =  \\left(I,\\psi_i \\right)$\n",
      "    \n",
      "    \n",
      "* **Galerkin method: **    \n",
      "    * $(R, \\psi_i) = \\sum_{j=0}^N c_j \\left(\\psi_j-I,\\psi_i \\right) =0\n",
      "    \\Rightarrow \\sum_{j=0}^N c_j \\left(\\psi_j,\\psi_i \\right) =  \\left(I,\\psi_i \\right)$\n",
      "    \n",
      " \n",
      "* **Collocation: **  \n",
      "    \n",
      "    * $R = 0 \\Rightarrow u(x_i) = \\sum_{j=0}^N c_j \\psi_j(x_i) = I(x_i)$ \n"
     ]
    },
    {
     "cell_type": "markdown",
     "metadata": {},
     "source": [
      "---\n",
      "##Part II\n",
      "\n",
      "*Discretize in time by a centered difference: $u_{tt}(x_i,t_n)\\approx [D_tD_tu]^n_i$. Derive a variational formulation of the time-discrete wave equation problem using the Galerkin method. Derive formulas for the element matrix and vector corresponding to the term with $u_{xx}$ in the PDE.*\n",
      "\n",
      "\n",
      "* **Time discritization: **\n",
      "\n",
      "    * $u_{tt} \\approx \\left[ D_t D_t u\\right]^n_i$\n",
      "    \n",
      "    * $u_i^{n+1}= \\Delta t^2 c^2 u_{xx}^n + 2 u_i^n - u_i^{n-1}+ \\Delta t^2 f$\n",
      "  \n",
      "  \n",
      "* **Variational form: **\n",
      "\n",
      "    * $(R,v)=0,\\quad \\forall v\\in V$\n",
      "    \n",
      "    * $(u_i^{n+1}, v) = \\Delta t^2 c^2 (u_{xx}^2,v) + 2 (u_i^n,v) - (u_i^{n-1},v) + \\Delta t^2 (f,v)$\n",
      "    \n",
      "        * $(u_{xx}^n,v) = -(u_{x}^n, v_{x})$ since $u'(0) = u'(L)=0$.\n",
      "        \n",
      "        \n",
      "* **Approximation of $u$: ** \n",
      "\n",
      "    * $u^n_i = \\sum_j c_j^n \\psi_j $ and use $v = \\psi_i$\n",
      "    \n",
      "    * Variational form: \n",
      "        \n",
      "         $\\sum_j c_j^{n+1} (\\psi_j,\\psi_i) = -\\Delta t^2 c^2 \\sum_j c_j^{n} (\\psi_j', \\psi_i') + 2 \\sum_j c_j^{n} (\\psi_j, \\psi_i) - \\sum_j c_j^{n-1} (\\psi_j, \\psi_i)+ \\Delta t^2 \\sum_j c_j^{n} (f, \\psi_i)$ \n",
      "         \n",
      "         \n",
      "* **Element matrix & vector: ** \n",
      "\n",
      "    * $A_{i,j} =  (\\psi_j', \\psi_i')$\n",
      "    \n",
      "    * $b^n_{j} = c_j^{n}$"
     ]
    },
    {
     "cell_type": "markdown",
     "metadata": {},
     "source": [
      "---\n",
      "##Part III\n",
      "\n",
      "*Show how the element matrix associated with the uxx term is computed for P1 elements. Explain the assembly principle and what the resulting global matrix look like when all cells have equal length.*\n",
      "\n",
      "####P1 Elements:\n",
      "<img src=\"files/figures/p1element.png\" alt=\"P1\" align=\"left\" width=\"50%\" height=\"50%\" >\n",
      "$$\n",
      "\\begin{split} {\\varphi}_i(x) = \\left\\lbrace\\begin{array}{ll} 0, & x < x_{i-1},\\\\ (x - x_{i-1})/h, & x_{i-1} \\leq x < x_{i},\\\\ 1 - (x - x_{i})/h, & x_{i} \\leq x < x_{i+1},\\\\ 0, & x\\geq x_{i+1} \\end{array} \\right.\\end{split}\n",
      "$$"
     ]
    },
    {
     "cell_type": "markdown",
     "metadata": {},
     "source": [
      "<img src=\"files/figures/dp1element.png\" alt=\"P1\" align=\"left\" width=\"50%\" height=\"50%\"  >\n",
      "\n",
      "$$\n",
      "\\begin{split}     {\\varphi}_i'(x) = \\left\\lbrace\\begin{array}{ll}\n",
      "     0, & x < x_{i-1},\\\\\n",
      "     h^{-1},\n",
      "     & x_{i-1} \\leq x < x_{i},\\\\\n",
      "     -h^{-1},\n",
      "     & x_{i} \\leq x < x_{i+1},\\\\\n",
      "     0, & x\\geq x_{i+1}\n",
      "     \\end{array}\n",
      "     \\right.\\end{split}\n",
      "$$"
     ]
    },
    {
     "cell_type": "markdown",
     "metadata": {},
     "source": [
      "**Element matrix ** \n",
      "\n",
      "* $\\varphi_i'\\varphi_j'$ is nonzero only if $i=j$ or $i = j \\pm 1$, i.e.  $i$ and $j$ are nodes belonging to the same cell.\n",
      "\n",
      "* Split integral occuring in innerproducts with integrals over individual elements.\n",
      "\n",
      "* Reference element: $[x_l,x_R] \\Rightarrow [-1, 1]$\n",
      "    \n",
      "    * $x = x_m + \\frac{1}{2}h X$ \n",
      "    * $dx = \\frac{h}{2}dX$\n",
      "    * ${\\tilde{\\varphi}}_r(X) = \\prod_{s=0,s\\neq r}^d \\frac{X-X_{(s)}}{X_{(r)}-X_{(s)}},$ where $X_{(r)} = -1 + 2r/d$, local nodes in the reference element\n",
      "    * For P1 we need only $\\varphi_0 = \\frac{1}{2}(1- X)$ and $\\varphi_1 = \\frac{1}{2}(1 + X)$\n",
      "        * $\\varphi_0' = -\\frac{1}{2}$ and $\\varphi_1' = \\frac{1}{2}$\n",
      "\n",
      "\n",
      "* $i=j$:\n",
      "    \n",
      "    * $B_{ii} = \\int_0^L \\varphi_i'\\varphi_i' dx \n",
      "    =  \\int_{-1}^1 \\left( \\frac{d\\varphi_i'}{dX}\\frac{dX}{dx} \\right) \\left( \\frac{d\\varphi_i'}{dX}\\frac{dX}{dx} \\right)\\frac{dx}{dX}dX = \\frac{2}{h}\\int_{-1}^1 \\left( \\frac{d\\varphi_i'}{dX}\\right) \\left( \\frac{d\\varphi_i'}{dX}\\right)dX =\\frac{2}{h}\\int_{-1}^1 \\frac{1}{4} = \\frac{1}{h} $\n",
      "    \n",
      "    \n",
      "    \n",
      "* $i=j\\pm1$:\n",
      "    \n",
      "    $B_{ii\\pm1} = \\int_0^L \\varphi_i'\\varphi_{i\\pm1}' dx \n",
      "    =  \\int_{-1}^1 \\left( \\frac{d\\varphi_i'}{dX}\\frac{dX}{dx} \\right) \\left( \\frac{d\\varphi_{i\\pm1}'}{dX}\\frac{dX}{dx} \\right)\\frac{dx}{dX}dX = \\frac{2}{h}\\int_{-1}^1 \\left( \\frac{d\\varphi_i'}{dX}\\right) \\left( \\frac{d\\varphi_{i\\pm1}'}{dX}\\right)dX =\\frac{2}{h}\\int_{-1}^1 \\frac{-1}{4} = -\\frac{1}{h} $\n",
      "\n",
      "    \n",
      "**Assembly principle: ** \n",
      "\n",
      "* Split the integrals over $\\Omega$ into subdomains: $A_{i,j} = \\int_{\\Omega}\\varphi_i\\varphi_j dx = \\sum_e A_{i,j}^{(e)}$\n",
      "\n",
      "* Mapping function: $i = q(e,r)$ where $i$ is global node number.\n",
      "\n",
      "* Contribution from an element is collected in an $(d+1)\\times (d+1)$ matrix"
     ]
    },
    {
     "cell_type": "markdown",
     "metadata": {},
     "source": [
      "<img src=\"files/figures/assembly.png\" alt=\"P1\" align=\"left\" width=\"30%\" height=\"30%\"  >\n",
      "$$\n",
      "\\begin{split}     \\frac{1}{h}\\left(\n",
      "     \\begin{array}{ccccccccc}\n",
      "     \\pmb{1} & -1 & 0\n",
      "     &\\cdots &\n",
      "     \\cdots & \\cdots & \\cdots &\n",
      "     \\cdots & 0 \\\\\n",
      "     -1 & 2 & -1 & \\ddots &   & &  & &  \\vdots \\\\\n",
      "     0 & -1 & 2 & -1 &\n",
      "     \\ddots & &  &  & \\vdots \\\\\n",
      "     \\vdots & \\ddots &  & \\ddots & \\ddots & 0 &  & & \\vdots \\\\\n",
      "     \\vdots &  & \\ddots & \\ddots & \\ddots & \\ddots & \\ddots & & \\vdots \\\\\n",
      "     \\vdots & &  & 0 & -1 & 2 & -1 & \\ddots & \\vdots \\\\\n",
      "     \\vdots & & &  & \\ddots & \\ddots & \\ddots &\\ddots  & 0 \\\\\n",
      "     \\vdots & & & &  &\\ddots  & \\ddots &\\ddots  & -1 \\\\\n",
      "     0 &\\cdots & \\cdots &\\cdots & \\cdots & \\cdots  & 0 & -1 & \\pmb{1}\n",
      "     \\end{array}\n",
      "     \\right)\n",
      "\\end{split}\n",
      "$$"
     ]
    },
    {
     "cell_type": "markdown",
     "metadata": {},
     "source": [
      "---\n",
      "##Part IV\n",
      "*Set up the discrete equations for this wave problem on operator form (assume P1 elements). Briefly explain the idea of an analysis of the scheme based on exact solution of the discrete equations. State the main results. Compare the main results with those of the finite difference method *\n",
      "\n",
      "* **Element matrices in FD form:** \n",
      "\n",
      "   *  The first and last equation, corresponding to $i = 0$ and $i = N$ are slightly different.\n",
      "\n",
      "   * Mass matrix with P1 elemnts in uniform mesh:\n",
      "       \n",
      "       * $(\\varphi_i,\\varphi_j)\\Rightarrow {\\bf M u} = \\frac{h}{6}(u_{i-1} + 4u_i + u_{i+1})= h(u_i + \\frac{1}{6}(u_{i-1} - 2u_i + u_{i+1})) \\quad \\Rightarrow \\quad [h(u + \\frac{h^2}{6}D_x D_x u)]^n_i,$\n",
      "       \n",
      "  * Stiffness matrix with P1 elemnts in uniform mesh:\n",
      "       \n",
      "       * $(\\varphi_i',\\varphi_j') \\Rightarrow{\\bf K u} = -\\frac{1}{h}u_{i-1} + \\frac{2}{h}u_{i} - \\frac{1}{h}u_{i+1} = -h\\frac{u_{i-1} - 2u_{i} + u_{i+1}}{h^2} \\quad \\Rightarrow \\quad  -h[D_xD_x u]^n_i $\n",
      "\n",
      "* **Operator notation:** \n",
      "  \n",
      "  * $\\sum_j \\left(c_j^{n+1} - 2 c_j^{n}  +c_j^{n-1}\\right) (\\varphi_j, \\varphi_i) = -\\Delta t^2 c^2 \\sum_j c_j^{n} (\\varphi_j', \\varphi_i') + \\Delta t^2 \\sum_j c_j^{n} \\underbrace{(f, \\varphi_i)}_{trapez \\rightarrow hf(x_i)}$ \n",
      "\n",
      "  * $[D_tD_t( u + \\frac{1}{6}\\Delta x^2 D_xD_x u ) = c^2 D_xD_x u + f]_{i}^{n}$\n",
      "   \n",
      "   \n",
      "* **Exact numerical solution: **\n",
      "   * $u^n_q = \\exp{(i(kq\\Delta x - \\tilde\\omega n\\Delta t))}$\n",
      "   * $\\sin^2 \\left( -\\frac{\\tilde \\omega\\Delta t}{2} \\right) = \\frac{C^2}{1/\\sin^{2}\\left( \\frac{k \\Delta x}{2} \\right) - \\frac{2}{3}} \\le 1$ in order to $\\tilde \\omega$ to be real.\n",
      "   * Righthand side has maximum when $\\sin^{2}\\left( \\frac{k \\Delta x}{2}\\right) = 1 \\quad \\Rightarrow \\quad \\frac{C^2}{1/\\sin^{2}\\left( \\frac{k \\Delta x}{2} \\right) - \\frac{2}{3}} = 3C^2$\n",
      "   * $C \\le \\frac{1}{\\sqrt{3}}$, recovering the exact solution for $C=1$ becomes impossible\n",
      "   \n",
      "* **Numerical dispersion relation: ** \n",
      "    * $\\tilde\\omega = \\frac{2}{\\Delta t}\\sin^{-1}\\left(\\frac{C}{\\sqrt{1/\\sin^{2}\\left( \\frac{k \\Delta x}{2} \\right) - \\frac{2}{3}}}\\right)$\n",
      "    * $p_x=k_x\\Delta x/2$\n",
      "    \n",
      "    * $r(C,p) = \\frac{\\tilde c}{c} = \\frac{1}{Cp} \\sin^{-1}\\left(\\frac{C}{\\sqrt{1/\\sin^{2}\\left( p\\right) - \\frac{2}{3}}}\\right) $"
     ]
    },
    {
     "cell_type": "code",
     "collapsed": false,
     "input": [
      "from sympy import*\n",
      "init_printing(use_latex=True)\n",
      "\n",
      "def r(C, p):\n",
      "    return 1/(C*p) * asin(C / (sqrt(1/sin(p)**2 - 2/3)))\n",
      "\n",
      "C, p = symbols('C p')\n",
      "rs = r(C, p).series(p, 0, 7)\n",
      "display(rs)\n",
      "\n",
      "# Factorize each term and drop the remainder O(...) term\n",
      "rs_factored = [factor(term) for term in rs.lseries(p)]\n",
      "rs_factored = sum(rs_factored)\n",
      "display(rs_factored)\n",
      "\n"
     ],
     "language": "python",
     "metadata": {},
     "outputs": [
      {
       "latex": [
        "$$\\frac{\\frac{5}{112} \\frac{C^{6}}{\\left(p^{-2}\\right)^{\\frac{7}{2}}} + \\frac{3}{40} \\frac{C^{4}}{\\left(p^{-2}\\right)^{\\frac{5}{2}}} + \\frac{C^{2}}{6 \\left(p^{-2}\\right)^{\\frac{3}{2}}} + \\frac{1}{\\sqrt{p^{-2}}}}{p} + p \\left(- \\frac{C^{4}}{16 \\left(p^{-2}\\right)^{\\frac{5}{2}}} - \\frac{C^{2}}{12 \\left(p^{-2}\\right)^{\\frac{3}{2}}} - \\frac{1}{6 \\sqrt{p^{-2}}}\\right) + p^{3} \\left(\\frac{13}{720} \\frac{C^{2}}{\\left(p^{-2}\\right)^{\\frac{3}{2}}} + \\frac{1}{120 \\sqrt{p^{-2}}}\\right) - \\frac{p^{5}}{5040 \\sqrt{p^{-2}}} + \\mathcal{O}\\left(p^{7}\\right)$$"
       ],
       "metadata": {},
       "output_type": "display_data",
       "png": "[encoded data removed]",
       "text": [
        "       6            4           2                                             \n",
        "    5\u22c5C          3\u22c5C           C          1                                   \n",
        "\u2500\u2500\u2500\u2500\u2500\u2500\u2500\u2500\u2500\u2500\u2500 + \u2500\u2500\u2500\u2500\u2500\u2500\u2500\u2500\u2500\u2500 + \u2500\u2500\u2500\u2500\u2500\u2500\u2500\u2500\u2500 + \u2500\u2500\u2500\u2500\u2500\u2500\u2500                                \n",
        "        7/2          5/2         3/2       1/2                                \n",
        "    \u239b1 \u239e         \u239b1 \u239e        \u239b1 \u239e      \u239b1 \u239e                                   \n",
        "112\u22c5\u239c\u2500\u2500\u239f      40\u22c5\u239c\u2500\u2500\u239f      6\u22c5\u239c\u2500\u2500\u239f      \u239c\u2500\u2500\u239f                                   \n",
        "    \u239c 2\u239f         \u239c 2\u239f        \u239c 2\u239f      \u239c 2\u239f        \u239b       4            2     \n",
        "    \u239dp \u23a0         \u239dp \u23a0        \u239dp \u23a0      \u239dp \u23a0        \u239c      C            C      \n",
        "\u2500\u2500\u2500\u2500\u2500\u2500\u2500\u2500\u2500\u2500\u2500\u2500\u2500\u2500\u2500\u2500\u2500\u2500\u2500\u2500\u2500\u2500\u2500\u2500\u2500\u2500\u2500\u2500\u2500\u2500\u2500\u2500\u2500\u2500\u2500\u2500\u2500\u2500\u2500\u2500\u2500\u2500\u2500\u2500\u2500\u2500 + p\u22c5\u239c- \u2500\u2500\u2500\u2500\u2500\u2500\u2500\u2500\u2500\u2500 - \u2500\u2500\u2500\u2500\u2500\u2500\u2500\u2500\u2500\u2500 \n",
        "                      p                            \u239c         5/2          3/2 \n",
        "                                                   \u239c     \u239b1 \u239e         \u239b1 \u239e    \n",
        "                                                   \u239c  16\u22c5\u239c\u2500\u2500\u239f      12\u22c5\u239c\u2500\u2500\u239f    \n",
        "                                                   \u239c     \u239c 2\u239f         \u239c 2\u239f    \n",
        "                                                   \u239d     \u239dp \u23a0         \u239dp \u23a0    \n",
        "\n",
        "                                                                          \n",
        "                                                                          \n",
        "                                                                          \n",
        "                                                                          \n",
        "                                                                          \n",
        "                                                                          \n",
        "             \u239e      \u239b       2                   \u239e          5              \n",
        "       1     \u239f    3 \u239c   13\u22c5C             1      \u239f         p           \u239b 7\u239e\n",
        "- \u2500\u2500\u2500\u2500\u2500\u2500\u2500\u2500\u2500\u2500\u2500\u239f + p \u22c5\u239c\u2500\u2500\u2500\u2500\u2500\u2500\u2500\u2500\u2500\u2500\u2500 + \u2500\u2500\u2500\u2500\u2500\u2500\u2500\u2500\u2500\u2500\u2500\u2500\u2500\u239f - \u2500\u2500\u2500\u2500\u2500\u2500\u2500\u2500\u2500\u2500\u2500\u2500\u2500\u2500 + O\u239dp \u23a0\n",
        "         ____\u239f      \u239c        3/2            ____\u239f             ____        \n",
        "        \u2571 1  \u239f      \u239c    \u239b1 \u239e              \u2571 1  \u239f            \u2571 1          \n",
        "  6\u22c5   \u2571  \u2500\u2500 \u239f      \u239c720\u22c5\u239c\u2500\u2500\u239f      120\u22c5   \u2571  \u2500\u2500 \u239f   5040\u22c5   \u2571  \u2500\u2500         \n",
        "      \u2571    2 \u239f      \u239c    \u239c 2\u239f            \u2571    2 \u239f          \u2571    2         \n",
        "    \u2572\u2571    p  \u23a0      \u239d    \u239dp \u23a0          \u2572\u2571    p  \u23a0        \u2572\u2571    p          "
       ]
      },
      {
       "latex": [
        "$$\\frac{1}{5040} p^{6} \\left(C -1\\right) \\left(C + 1\\right) \\left(225 C^{4} - 90 C^{2} + 1\\right) + \\frac{1}{120} p^{4} \\left(C -1\\right) \\left(C + 1\\right) \\left(3 C -1\\right) \\left(3 C + 1\\right) + \\frac{1}{6} p^{2} \\left(C -1\\right) \\left(C + 1\\right) + 1$$"
       ],
       "metadata": {},
       "output_type": "display_data",
       "png": "[encoded data removed]",
       "text": [
        " 6                 \u239b     4       2    \u239e    4                                  \n",
        "p \u22c5(C - 1)\u22c5(C + 1)\u22c5\u239d225\u22c5C  - 90\u22c5C  + 1\u23a0   p \u22c5(C - 1)\u22c5(C + 1)\u22c5(3\u22c5C - 1)\u22c5(3\u22c5C + \n",
        "\u2500\u2500\u2500\u2500\u2500\u2500\u2500\u2500\u2500\u2500\u2500\u2500\u2500\u2500\u2500\u2500\u2500\u2500\u2500\u2500\u2500\u2500\u2500\u2500\u2500\u2500\u2500\u2500\u2500\u2500\u2500\u2500\u2500\u2500\u2500\u2500\u2500\u2500\u2500 + \u2500\u2500\u2500\u2500\u2500\u2500\u2500\u2500\u2500\u2500\u2500\u2500\u2500\u2500\u2500\u2500\u2500\u2500\u2500\u2500\u2500\u2500\u2500\u2500\u2500\u2500\u2500\u2500\u2500\u2500\u2500\u2500\u2500\u2500\u2500\u2500\n",
        "                  5040                                     120                \n",
        "\n",
        "      2                    \n",
        "1)   p \u22c5(C - 1)\u22c5(C + 1)    \n",
        "\u2500\u2500 + \u2500\u2500\u2500\u2500\u2500\u2500\u2500\u2500\u2500\u2500\u2500\u2500\u2500\u2500\u2500\u2500\u2500\u2500 + 1\n",
        "             6             "
       ]
      }
     ],
     "prompt_number": 5
    },
    {
     "cell_type": "code",
     "collapsed": false,
     "input": [
      "from pylab import*\n",
      "\n",
      "def r(C, p):\n",
      "    return 1.0/(C*p) * arcsin(C / (sqrt( (1./sin(p)**2) - 2./3.)))\n",
      "\n",
      "p = linspace(0.001, pi/2, 25)\n",
      "\n",
      "for C in 1.0, 1./sqrt(3), 0.3,0.2, 0.001: \n",
      "    plot(p,r(C,p),'-o', label = \"C= \"+ str(C))\n",
      "\n",
      "legend(loc=\"2\")\n",
      "ylabel('$r(p,C)$')\n",
      "xlabel('p')\n",
      "\n",
      "arcsin(0.1 / (sqrt(1./sin(0.001)**2 - 2./3.)))"
     ],
     "language": "python",
     "metadata": {},
     "outputs": [
      {
       "metadata": {},
       "output_type": "pyout",
       "prompt_number": 27,
       "text": [
        "0.00010000001683333425"
       ]
      },
      {
       "metadata": {},
       "output_type": "display_data",
       "png": "[encoded data removed]",
       "text": [
        "<matplotlib.figure.Figure at 0x4411ed0>"
       ]
      }
     ],
     "prompt_number": 27
    }
   ],
   "metadata": {}
  }
 ]
}