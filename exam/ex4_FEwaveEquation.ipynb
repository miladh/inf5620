{
 "metadata": {
  "name": ""
 },
 "nbformat": 3,
 "nbformat_minor": 0,
 "worksheets": [
  {
   "cells": [
    {
     "cell_type": "markdown",
     "metadata": {},
     "source": [
      "#Problem 4: Finite elements for a 1D wave equation"
     ]
    },
    {
     "cell_type": "markdown",
     "metadata": {},
     "source": [
      "---\n",
      "## Mathematical problem\n",
      "We consider the 1D wave equation problem on $\\Omega = [0,L]$\n",
      "\n",
      "\\begin{align*}\n",
      "u_{tt} = c^2u_{xx} + f,\\quad u(x,0)=I(x),\\ u_t(x,0)=0,\\ u'(0)=u'(L)=0\n",
      "\\end{align*}"
     ]
    },
    {
     "cell_type": "markdown",
     "metadata": {},
     "source": [
      "---\n",
      "##Part I\n",
      "\n",
      "*Explain how the initial condition can be approximated by the finite element method using the principles of least squares, projection (Galerkin), and interpolation (collocation).*\n",
      "\n",
      "* $u(x,0) = \\sum_{j=0}^N c^0_j \\psi_j(x) = I(x)$\n",
      "    \n",
      "\n",
      "* $R = \\sum_{j=0}^N c^0_j \\psi_j(x) - I(x)$\n",
      "\n",
      "\n",
      "* **Least square: **\n",
      "\n",
      "    * $(R, \\frac{\\partial R}{\\partial c_i}) = \\sum_{j=0}^N c_j \\left(\\psi_j-I,\\psi_i \\right) =0\n",
      "    \\Rightarrow \\sum_{j=0}^N c_j \\left(\\psi_j,\\psi_i \\right) =  \\left(I,\\psi_i \\right)$\n",
      "    \n",
      "    \n",
      "* **Galerkin method: **    \n",
      "    * $(R, \\psi_i) = \\sum_{j=0}^N c_j \\left(\\psi_j-I,\\psi_i \\right) =0\n",
      "    \\Rightarrow \\sum_{j=0}^N c_j \\left(\\psi_j,\\psi_i \\right) =  \\left(I,\\psi_i \\right)$\n",
      "    \n",
      " \n",
      "* **Collocation: **  \n",
      "    \n",
      "    * $R = 0 \\Rightarrow u(x_i) = \\sum_{j=0}^N c_j \\psi_j(x_i) = I(x_i)$ \n"
     ]
    },
    {
     "cell_type": "markdown",
     "metadata": {},
     "source": [
      "---\n",
      "##Part II\n",
      "\n",
      "*Discretize in time by a centered difference: $u_{tt}(x_i,t_n)\\approx [D_tD_tu]^n_i$. Derive a variational formulation of the time-discrete wave equation problem using the Galerkin method. Derive formulas for the element matrix and vector corresponding to the term with $u_{xx}$ in the PDE.*\n",
      "\n",
      "\n",
      "* **Time discritization: **\n",
      "\n",
      "    * $u_{tt} \\approx \\left[ D_t D_t u\\right]^n_i$\n",
      "    \n",
      "    * $u_i^{n+1}= \\Delta t^2 c^2 u_{xx}^n + 2 u_i^n - u_i^{n-1}+ \\Delta t^2 f$\n",
      "  \n",
      "  \n",
      "* **Variational form: **\n",
      "\n",
      "    * $(R,v)=0,\\quad \\forall v\\in V$\n",
      "    \n",
      "    * $(u_i^{n+1}, v) = \\Delta t^2 c^2 (u_{xx}^2,v) + 2 (u_i^n,v) - (u_i^{n-1},v) + \\Delta t^2 (f,v)$\n",
      "    \n",
      "        * $(u_{xx}^n,v) = -(u_{x}^n, v_{x})$ since $u'(0) = u'(L)=0$.\n",
      "        \n",
      "        \n",
      "* **Approximation of $u$: ** \n",
      "\n",
      "    * $u^n_i = \\sum_j c_j^n \\psi_j $ and use $v = \\psi_i$\n",
      "    \n",
      "    * Variational form: \n",
      "        \n",
      "         $\\sum_j c_j^{n+1} (\\psi_j,\\psi_i) = -\\Delta t^2 c^2 \\sum_j c_j^{n} (\\psi_j', \\psi_i') + 2 \\sum_j c_j^{n} (\\psi_j, \\psi_i) - \\sum_j c_j^{n-1} (\\psi_j, \\psi_i)+ \\Delta t^2 \\sum_j c_j^{n} (f, \\psi_i)$ \n",
      "         \n",
      "         \n",
      "* **Element matrix & vector: ** \n",
      "\n",
      "    * $A_{i,j} =  (\\psi_j', \\psi_i')$\n",
      "    \n",
      "    * $b^n_{j} = c_j^{n}$"
     ]
    },
    {
     "cell_type": "markdown",
     "metadata": {},
     "source": [
      "---\n",
      "##Part III\n",
      "\n",
      "*Show how the element matrix associated with the uxx term is computed for P1 elements. Explain the assembly principle and what the resulting global matrix look like when all cells have equal length.*\n",
      "\n",
      "####P1 Elements:\n",
      "<img src=\"files/figures/p1element.png\" alt=\"P1\" align=\"left\" width=\"50%\" height=\"50%\" >\n",
      "$$\n",
      "\\begin{split} {\\varphi}_i(x) = \\left\\lbrace\\begin{array}{ll} 0, & x < x_{i-1},\\\\ (x - x_{i-1})/h, & x_{i-1} \\leq x < x_{i},\\\\ 1 - (x - x_{i})/h, & x_{i} \\leq x < x_{i+1},\\\\ 0, & x\\geq x_{i+1} \\end{array} \\right.\\end{split}\n",
      "$$"
     ]
    },
    {
     "cell_type": "markdown",
     "metadata": {},
     "source": [
      "<img src=\"files/figures/dp1element.png\" alt=\"P1\" align=\"left\" width=\"50%\" height=\"50%\"  >\n",
      "\n",
      "$$\n",
      "\\begin{split}     {\\varphi}_i'(x) = \\left\\lbrace\\begin{array}{ll}\n",
      "     0, & x < x_{i-1},\\\\\n",
      "     h^{-1},\n",
      "     & x_{i-1} \\leq x < x_{i},\\\\\n",
      "     -h^{-1},\n",
      "     & x_{i} \\leq x < x_{i+1},\\\\\n",
      "     0, & x\\geq x_{i+1}\n",
      "     \\end{array}\n",
      "     \\right.\\end{split}\n",
      "$$"
     ]
    },
    {
     "cell_type": "markdown",
     "metadata": {},
     "source": [
      "**Element matrix ** \n",
      "\n",
      "* $\\varphi_i'\\varphi_j'$ is nonzero only if $i=j$ or $i = j \\pm 1$, i.e.  $i$ and $j$ are nodes belonging to the same cell.\n",
      "\n",
      "* Split integral occuring in innerproducts with integrals over individual elements.\n",
      "\n",
      "* Reference element: $[x_l,x_R] \\Rightarrow [-1, 1]$\n",
      "    \n",
      "    * $x = x_m + \\frac{1}{2}h X$ \n",
      "    * $dx = \\frac{h}{2}dX$\n",
      "    * ${\\tilde{\\varphi}}_r(X) = \\prod_{s=0,s\\neq r}^d \\frac{X-X_{(s)}}{X_{(r)}-X_{(s)}},$ where $X_{(r)} = -1 + 2r/d$, local nodes in the reference element\n",
      "    * For P1 we need only $\\varphi_0 = \\frac{1}{2}(1- X)$ and $\\varphi_1 = \\frac{1}{2}(1 + X)$\n",
      "\n",
      "\n",
      "* $i=j$:\n",
      "    \n",
      "    * $A_{ii} = \\int_0^L \\varphi_i'\\varphi_i' dx \n",
      "    =  2\\int_{-1}^1 \\left( \\frac{d\\varphi_i}{dX}\\frac{dX}{dx} \\right) \\left( \\frac{d\\varphi_i}{dX}\\frac{dX}{dx} \\right)\\frac{dx}{dX}dX = \\frac{4}{h}\\int_{-1}^1 \\left( \\frac{d\\varphi_i}{dX}\\right) \\left( \\frac{d\\varphi_i}{dX}\\right)dX =\\frac{4}{h}\\int_{-1}^1 \\frac{1}{4} = \\frac{2}{h} $\n",
      "    \n",
      "    \n",
      "    \n",
      "* $i=j\\pm1$:\n",
      "    \n",
      "    $A_{ii\\pm1} = \\int_0^L \\varphi_i'\\varphi_{i\\pm1}' dx \n",
      "    =  \\int_{-1}^1 \\left( \\frac{d\\varphi_i}{dX}\\frac{dX}{dx} \\right) \\left( \\frac{d\\varphi_{i\\pm1}}{dX}\\frac{dX}{dx} \\right)\\frac{dx}{dX}dX = \\frac{2}{h}\\int_{-1}^1 \\left( \\frac{d\\varphi_i}{dX}\\right) \\left( \\frac{d\\varphi_{i\\pm1}}{dX}\\right)dX =\\frac{2}{h}\\int_{-1}^1 \\frac{-1}{4} = -\\frac{1}{h} $\n",
      "\n",
      "    \n",
      "**Assembly principle: ** \n",
      "\n",
      "* Split the integrals over $\\Omega$ into subdomains: $A_{i,j} = \\int_{\\Omega}\\varphi_i\\varphi_j dx = \\sum_e A_{i,j}^{(e)}$\n",
      "\n",
      "* Mapping function: $i = q(e,r)$ where $i$ is global node number.\n",
      "\n",
      "* Contribution from an element is collected in an $(d+1)\\times (d+1)$ matrix"
     ]
    },
    {
     "cell_type": "markdown",
     "metadata": {},
     "source": [
      "<img src=\"files/figures/assembly.png\" alt=\"P1\" align=\"left\" width=\"30%\" height=\"30%\"  >\n",
      "$$\n",
      "\\begin{split}     \\frac{1}{h}\\left(\n",
      "     \\begin{array}{ccccccccc}\n",
      "     \\pmb{1} & -1 & 0\n",
      "     &\\cdots &\n",
      "     \\cdots & \\cdots & \\cdots &\n",
      "     \\cdots & 0 \\\\\n",
      "     -1 & 2 & -1 & \\ddots &   & &  & &  \\vdots \\\\\n",
      "     0 & -1 & 2 & -1 &\n",
      "     \\ddots & &  &  & \\vdots \\\\\n",
      "     \\vdots & \\ddots &  & \\ddots & \\ddots & 0 &  & & \\vdots \\\\\n",
      "     \\vdots &  & \\ddots & \\ddots & \\ddots & \\ddots & \\ddots & & \\vdots \\\\\n",
      "     \\vdots & &  & 0 & -1 & 2 & -1 & \\ddots & \\vdots \\\\\n",
      "     \\vdots & & &  & \\ddots & \\ddots & \\ddots &\\ddots  & 0 \\\\\n",
      "     \\vdots & & & &  &\\ddots  & \\ddots &\\ddots  & -1 \\\\\n",
      "     0 &\\cdots & \\cdots &\\cdots & \\cdots & \\cdots  & 0 & -1 & \\pmb{1}\n",
      "     \\end{array}\n",
      "     \\right)\n",
      "\\end{split}\n",
      "$$"
     ]
    },
    {
     "cell_type": "markdown",
     "metadata": {},
     "source": [
      "---\n",
      "##Part IV\n",
      "*Set up the discrete equations for this wave problem on operator form (assume P1 elements). Briefly explain the idea of an analysis of the scheme based on exact solution of the discrete equations. State the main results. Compare the main results with those of the finite difference method *"
     ]
    },
    {
     "cell_type": "code",
     "collapsed": false,
     "input": [],
     "language": "python",
     "metadata": {},
     "outputs": []
    }
   ],
   "metadata": {}
  }
 ]
}