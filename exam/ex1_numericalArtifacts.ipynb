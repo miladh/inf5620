{
 "metadata": {
  "name": ""
 },
 "nbformat": 3,
 "nbformat_minor": 0,
 "worksheets": [
  {
   "cells": [
    {
     "cell_type": "markdown",
     "metadata": {},
     "source": [
      "#Problem 1: Numerical artifacts in time integration schemes"
     ]
    },
    {
     "cell_type": "markdown",
     "metadata": {},
     "source": [
      "---\n",
      "##Part I\n",
      "\n",
      "*Consider the ODE problem* $T' = -kT,\\quad T(0)=T_0.$ *Sketch graphically what kind of numerical problems (artifacts, non-physical features) that can arise from applying the Forward Euler, Backward Euler, and Crank-Nicolson schemes to solve this ODE problem. Explain how mathematical analysis can provide understanding of the numerical problems.*\n",
      "\n",
      "**Backward Euler: ** \n",
      "\n",
      "**Forward Euler: ** \n",
      "\n",
      "**Crank-Nicolson: ** "
     ]
    },
    {
     "cell_type": "markdown",
     "metadata": {},
     "source": [
      "---\n",
      "##Part II\n",
      "\n",
      "*We consider a diffusion problem* $T_{t} = kT_{xx},$ *modeling the temperature in a solid body. Two pieces of the same material, with different temperatures, are brought together at $t=0$. The condition at $t=0$ can be formulated as $T(x,0)=T_0$ for $x\\in[0,L/2)$ and $T(x,0)=T1\\neq T0$ for $x\\in[L/2,L]$. The PDE will then predict how the initially discontinuous temperature develops in time and space.*\n",
      "\n",
      "*Illustrate what kind of numerical problems (artifacts, non-physical features) that may arise from the Forward Euler, Backward Euler, and Crank-Nicolson schemes applied to this ODE problem. Explain how mathematical analysis can provide understanding of the numerical problems. Point out what is similar to the ODE problem in a) and what is new in this PDE problem.*\n",
      "\n",
      "**Backward Euler: ** \n",
      "\n",
      "**Forward Euler: ** \n",
      "\n",
      "**Crank-Nicolson: ** "
     ]
    },
    {
     "cell_type": "code",
     "collapsed": false,
     "input": [],
     "language": "python",
     "metadata": {},
     "outputs": []
    }
   ],
   "metadata": {}
  }
 ]
}